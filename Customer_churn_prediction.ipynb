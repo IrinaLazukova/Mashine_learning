{
 "cells": [
  {
   "cell_type": "markdown",
   "metadata": {},
   "source": [
    "# Прогнозирование оттока клиентов для фитнес-центра"
   ]
  },
  {
   "cell_type": "markdown",
   "metadata": {},
   "source": [
    "**Цель исследования:**\n",
    "- разработать стратегию по удержанию клиентов.\n",
    "\n",
    "**Ход исследования:**\n",
    "- научиться прогнозировать вероятность оттока (на уровне следующего месяца) для каждого клиента;\n",
    "- сформировать типичные портреты клиентов: выделить несколько наиболее ярких групп и охарактеризовать их основные свойства;\n",
    "- проанализировать основные признаки, наиболее сильно влияющие на отток;\n",
    "- сформулировать основные выводы и разработать рекомендации по повышению качества работы с клиентами:\n",
    "1) выделить целевые группы клиентов;\n",
    "2) предложить меры по снижению оттока;\n",
    "3) определить другие особенности взаимодействия с клиентами.\n",
    "    \n",
    "**Описание данных:**\n",
    "Заказчик подготовил данные, которые содержат данные на месяц до оттока и факт оттока на определённый месяц. Набор данных включает следующие поля:\n",
    "1) Данные клиента за предыдущий до проверки факта оттока месяц:\n",
    " - 'gender' — пол;\n",
    " - 'Near_Location' — проживание или работа в районе, где находится фитнес-центр;\n",
    " - 'Partner' — сотрудник компании-партнёра клуба;\n",
    " - 'Promo_friends — факт первоначальной записи в рамках акции «приведи друга»;\n",
    " - 'Phone' — наличие контактного телефона;\n",
    " - 'Age' — возраст;\n",
    " - 'Lifetime' — время с момента первого обращения в фитнес-центр (в месяцах).\n",
    "\n",
    "2) Информация на основе журнала посещений, покупок и информация о текущем статусе абонемента клиента:\n",
    " - 'Contract_period' — длительность текущего действующего абонемента (месяц, 6 месяцев, год);\n",
    " - 'Month_to_end_contract' — срок до окончания текущего действующего абонемента (в месяцах);\n",
    " - 'Group_visits' — факт посещения групповых занятий;\n",
    " - 'Avg_class_frequency_total' — средняя частота посещений в неделю за все время с начала действия абонемента;\n",
    " - 'Avg_class_frequency_current_month' — средняя частота посещений в неделю за предыдущий месяц;\n",
    " - 'Avg_additional_charges_total' — суммарная выручка от других услуг фитнес-центра;\n",
    " - 'Churn' — факт оттока в текущем месяце."
   ]
  },
  {
   "cell_type": "markdown",
   "metadata": {},
   "source": [
    "## Открытие файлов и изучение общей информации"
   ]
  },
  {
   "cell_type": "code",
   "execution_count": 1,
   "metadata": {},
   "outputs": [],
   "source": [
    "import pandas as pd\n",
    "import numpy as np\n",
    "import matplotlib.pyplot as plt\n",
    "import seaborn as sns\n",
    "from sklearn.preprocessing import StandardScaler\n",
    "from sklearn.model_selection import train_test_split\n",
    "from sklearn.linear_model import LogisticRegression\n",
    "from sklearn.metrics import accuracy_score, precision_score, recall_score\n",
    "from sklearn.ensemble import RandomForestClassifier\n",
    "from scipy.cluster.hierarchy import dendrogram, linkage\n",
    "from sklearn.cluster import KMeans"
   ]
  },
  {
   "cell_type": "code",
   "execution_count": 2,
   "metadata": {},
   "outputs": [],
   "source": [
    "clients = pd.read_csv('/datasets/gym_churn.csv')           # откроем файл и взглянем на первые 10 строк"
   ]
  },
  {
   "cell_type": "code",
   "execution_count": 3,
   "metadata": {},
   "outputs": [
    {
     "data": {
      "text/html": [
       "<div>\n",
       "<style scoped>\n",
       "    .dataframe tbody tr th:only-of-type {\n",
       "        vertical-align: middle;\n",
       "    }\n",
       "\n",
       "    .dataframe tbody tr th {\n",
       "        vertical-align: top;\n",
       "    }\n",
       "\n",
       "    .dataframe thead th {\n",
       "        text-align: right;\n",
       "    }\n",
       "</style>\n",
       "<table border=\"1\" class=\"dataframe\">\n",
       "  <thead>\n",
       "    <tr style=\"text-align: right;\">\n",
       "      <th></th>\n",
       "      <th>gender</th>\n",
       "      <th>Near_Location</th>\n",
       "      <th>Partner</th>\n",
       "      <th>Promo_friends</th>\n",
       "      <th>Phone</th>\n",
       "      <th>Contract_period</th>\n",
       "      <th>Group_visits</th>\n",
       "      <th>Age</th>\n",
       "      <th>Avg_additional_charges_total</th>\n",
       "      <th>Month_to_end_contract</th>\n",
       "      <th>Lifetime</th>\n",
       "      <th>Avg_class_frequency_total</th>\n",
       "      <th>Avg_class_frequency_current_month</th>\n",
       "      <th>Churn</th>\n",
       "    </tr>\n",
       "  </thead>\n",
       "  <tbody>\n",
       "    <tr>\n",
       "      <th>0</th>\n",
       "      <td>1</td>\n",
       "      <td>1</td>\n",
       "      <td>1</td>\n",
       "      <td>1</td>\n",
       "      <td>0</td>\n",
       "      <td>6</td>\n",
       "      <td>1</td>\n",
       "      <td>29</td>\n",
       "      <td>14.227470</td>\n",
       "      <td>5.0</td>\n",
       "      <td>3</td>\n",
       "      <td>0.020398</td>\n",
       "      <td>0.000000</td>\n",
       "      <td>0</td>\n",
       "    </tr>\n",
       "    <tr>\n",
       "      <th>1</th>\n",
       "      <td>0</td>\n",
       "      <td>1</td>\n",
       "      <td>0</td>\n",
       "      <td>0</td>\n",
       "      <td>1</td>\n",
       "      <td>12</td>\n",
       "      <td>1</td>\n",
       "      <td>31</td>\n",
       "      <td>113.202938</td>\n",
       "      <td>12.0</td>\n",
       "      <td>7</td>\n",
       "      <td>1.922936</td>\n",
       "      <td>1.910244</td>\n",
       "      <td>0</td>\n",
       "    </tr>\n",
       "    <tr>\n",
       "      <th>2</th>\n",
       "      <td>0</td>\n",
       "      <td>1</td>\n",
       "      <td>1</td>\n",
       "      <td>0</td>\n",
       "      <td>1</td>\n",
       "      <td>1</td>\n",
       "      <td>0</td>\n",
       "      <td>28</td>\n",
       "      <td>129.448479</td>\n",
       "      <td>1.0</td>\n",
       "      <td>2</td>\n",
       "      <td>1.859098</td>\n",
       "      <td>1.736502</td>\n",
       "      <td>0</td>\n",
       "    </tr>\n",
       "    <tr>\n",
       "      <th>3</th>\n",
       "      <td>0</td>\n",
       "      <td>1</td>\n",
       "      <td>1</td>\n",
       "      <td>1</td>\n",
       "      <td>1</td>\n",
       "      <td>12</td>\n",
       "      <td>1</td>\n",
       "      <td>33</td>\n",
       "      <td>62.669863</td>\n",
       "      <td>12.0</td>\n",
       "      <td>2</td>\n",
       "      <td>3.205633</td>\n",
       "      <td>3.357215</td>\n",
       "      <td>0</td>\n",
       "    </tr>\n",
       "    <tr>\n",
       "      <th>4</th>\n",
       "      <td>1</td>\n",
       "      <td>1</td>\n",
       "      <td>1</td>\n",
       "      <td>1</td>\n",
       "      <td>1</td>\n",
       "      <td>1</td>\n",
       "      <td>0</td>\n",
       "      <td>26</td>\n",
       "      <td>198.362265</td>\n",
       "      <td>1.0</td>\n",
       "      <td>3</td>\n",
       "      <td>1.113884</td>\n",
       "      <td>1.120078</td>\n",
       "      <td>0</td>\n",
       "    </tr>\n",
       "    <tr>\n",
       "      <th>5</th>\n",
       "      <td>1</td>\n",
       "      <td>1</td>\n",
       "      <td>0</td>\n",
       "      <td>0</td>\n",
       "      <td>1</td>\n",
       "      <td>1</td>\n",
       "      <td>1</td>\n",
       "      <td>34</td>\n",
       "      <td>450.743960</td>\n",
       "      <td>1.0</td>\n",
       "      <td>3</td>\n",
       "      <td>2.623477</td>\n",
       "      <td>2.637007</td>\n",
       "      <td>0</td>\n",
       "    </tr>\n",
       "    <tr>\n",
       "      <th>6</th>\n",
       "      <td>1</td>\n",
       "      <td>1</td>\n",
       "      <td>1</td>\n",
       "      <td>1</td>\n",
       "      <td>0</td>\n",
       "      <td>6</td>\n",
       "      <td>1</td>\n",
       "      <td>32</td>\n",
       "      <td>94.266389</td>\n",
       "      <td>6.0</td>\n",
       "      <td>2</td>\n",
       "      <td>1.138941</td>\n",
       "      <td>1.277242</td>\n",
       "      <td>0</td>\n",
       "    </tr>\n",
       "    <tr>\n",
       "      <th>7</th>\n",
       "      <td>0</td>\n",
       "      <td>1</td>\n",
       "      <td>0</td>\n",
       "      <td>0</td>\n",
       "      <td>1</td>\n",
       "      <td>1</td>\n",
       "      <td>0</td>\n",
       "      <td>30</td>\n",
       "      <td>217.786641</td>\n",
       "      <td>1.0</td>\n",
       "      <td>0</td>\n",
       "      <td>1.213502</td>\n",
       "      <td>1.049387</td>\n",
       "      <td>1</td>\n",
       "    </tr>\n",
       "    <tr>\n",
       "      <th>8</th>\n",
       "      <td>1</td>\n",
       "      <td>1</td>\n",
       "      <td>1</td>\n",
       "      <td>1</td>\n",
       "      <td>1</td>\n",
       "      <td>1</td>\n",
       "      <td>1</td>\n",
       "      <td>23</td>\n",
       "      <td>45.409909</td>\n",
       "      <td>1.0</td>\n",
       "      <td>1</td>\n",
       "      <td>1.106239</td>\n",
       "      <td>1.059333</td>\n",
       "      <td>0</td>\n",
       "    </tr>\n",
       "    <tr>\n",
       "      <th>9</th>\n",
       "      <td>0</td>\n",
       "      <td>1</td>\n",
       "      <td>0</td>\n",
       "      <td>0</td>\n",
       "      <td>1</td>\n",
       "      <td>1</td>\n",
       "      <td>0</td>\n",
       "      <td>31</td>\n",
       "      <td>65.310836</td>\n",
       "      <td>1.0</td>\n",
       "      <td>11</td>\n",
       "      <td>1.810852</td>\n",
       "      <td>1.951368</td>\n",
       "      <td>0</td>\n",
       "    </tr>\n",
       "  </tbody>\n",
       "</table>\n",
       "</div>"
      ],
      "text/plain": [
       "   gender  Near_Location  Partner  Promo_friends  Phone  Contract_period  \\\n",
       "0       1              1        1              1      0                6   \n",
       "1       0              1        0              0      1               12   \n",
       "2       0              1        1              0      1                1   \n",
       "3       0              1        1              1      1               12   \n",
       "4       1              1        1              1      1                1   \n",
       "5       1              1        0              0      1                1   \n",
       "6       1              1        1              1      0                6   \n",
       "7       0              1        0              0      1                1   \n",
       "8       1              1        1              1      1                1   \n",
       "9       0              1        0              0      1                1   \n",
       "\n",
       "   Group_visits  Age  Avg_additional_charges_total  Month_to_end_contract  \\\n",
       "0             1   29                     14.227470                    5.0   \n",
       "1             1   31                    113.202938                   12.0   \n",
       "2             0   28                    129.448479                    1.0   \n",
       "3             1   33                     62.669863                   12.0   \n",
       "4             0   26                    198.362265                    1.0   \n",
       "5             1   34                    450.743960                    1.0   \n",
       "6             1   32                     94.266389                    6.0   \n",
       "7             0   30                    217.786641                    1.0   \n",
       "8             1   23                     45.409909                    1.0   \n",
       "9             0   31                     65.310836                    1.0   \n",
       "\n",
       "   Lifetime  Avg_class_frequency_total  Avg_class_frequency_current_month  \\\n",
       "0         3                   0.020398                           0.000000   \n",
       "1         7                   1.922936                           1.910244   \n",
       "2         2                   1.859098                           1.736502   \n",
       "3         2                   3.205633                           3.357215   \n",
       "4         3                   1.113884                           1.120078   \n",
       "5         3                   2.623477                           2.637007   \n",
       "6         2                   1.138941                           1.277242   \n",
       "7         0                   1.213502                           1.049387   \n",
       "8         1                   1.106239                           1.059333   \n",
       "9        11                   1.810852                           1.951368   \n",
       "\n",
       "   Churn  \n",
       "0      0  \n",
       "1      0  \n",
       "2      0  \n",
       "3      0  \n",
       "4      0  \n",
       "5      0  \n",
       "6      0  \n",
       "7      1  \n",
       "8      0  \n",
       "9      0  "
      ]
     },
     "execution_count": 3,
     "metadata": {},
     "output_type": "execute_result"
    }
   ],
   "source": [
    "clients.head(10)"
   ]
  },
  {
   "cell_type": "code",
   "execution_count": 4,
   "metadata": {},
   "outputs": [
    {
     "name": "stdout",
     "output_type": "stream",
     "text": [
      "<class 'pandas.core.frame.DataFrame'>\n",
      "RangeIndex: 4000 entries, 0 to 3999\n",
      "Data columns (total 14 columns):\n",
      " #   Column                             Non-Null Count  Dtype  \n",
      "---  ------                             --------------  -----  \n",
      " 0   gender                             4000 non-null   int64  \n",
      " 1   Near_Location                      4000 non-null   int64  \n",
      " 2   Partner                            4000 non-null   int64  \n",
      " 3   Promo_friends                      4000 non-null   int64  \n",
      " 4   Phone                              4000 non-null   int64  \n",
      " 5   Contract_period                    4000 non-null   int64  \n",
      " 6   Group_visits                       4000 non-null   int64  \n",
      " 7   Age                                4000 non-null   int64  \n",
      " 8   Avg_additional_charges_total       4000 non-null   float64\n",
      " 9   Month_to_end_contract              4000 non-null   float64\n",
      " 10  Lifetime                           4000 non-null   int64  \n",
      " 11  Avg_class_frequency_total          4000 non-null   float64\n",
      " 12  Avg_class_frequency_current_month  4000 non-null   float64\n",
      " 13  Churn                              4000 non-null   int64  \n",
      "dtypes: float64(4), int64(10)\n",
      "memory usage: 437.6 KB\n"
     ]
    }
   ],
   "source": [
    "clients.info()        # изучим общую информацию"
   ]
  },
  {
   "cell_type": "code",
   "execution_count": 5,
   "metadata": {},
   "outputs": [],
   "source": [
    "clients = clients.rename(columns = {'gender': 'Gender'})     # приведем названия столбцов к единому образцу"
   ]
  },
  {
   "cell_type": "code",
   "execution_count": 6,
   "metadata": {},
   "outputs": [
    {
     "data": {
      "text/html": [
       "<div>\n",
       "<style scoped>\n",
       "    .dataframe tbody tr th:only-of-type {\n",
       "        vertical-align: middle;\n",
       "    }\n",
       "\n",
       "    .dataframe tbody tr th {\n",
       "        vertical-align: top;\n",
       "    }\n",
       "\n",
       "    .dataframe thead th {\n",
       "        text-align: right;\n",
       "    }\n",
       "</style>\n",
       "<table border=\"1\" class=\"dataframe\">\n",
       "  <thead>\n",
       "    <tr style=\"text-align: right;\">\n",
       "      <th></th>\n",
       "      <th>Gender</th>\n",
       "      <th>Near_Location</th>\n",
       "      <th>Partner</th>\n",
       "      <th>Promo_friends</th>\n",
       "      <th>Phone</th>\n",
       "      <th>Contract_period</th>\n",
       "      <th>Group_visits</th>\n",
       "      <th>Age</th>\n",
       "      <th>Avg_additional_charges_total</th>\n",
       "      <th>Month_to_end_contract</th>\n",
       "      <th>Lifetime</th>\n",
       "      <th>Avg_class_frequency_total</th>\n",
       "      <th>Avg_class_frequency_current_month</th>\n",
       "      <th>Churn</th>\n",
       "    </tr>\n",
       "  </thead>\n",
       "  <tbody>\n",
       "    <tr>\n",
       "      <th>0</th>\n",
       "      <td>1</td>\n",
       "      <td>1</td>\n",
       "      <td>1</td>\n",
       "      <td>1</td>\n",
       "      <td>0</td>\n",
       "      <td>6</td>\n",
       "      <td>1</td>\n",
       "      <td>29</td>\n",
       "      <td>14.227470</td>\n",
       "      <td>5</td>\n",
       "      <td>3</td>\n",
       "      <td>0.020398</td>\n",
       "      <td>0.000000</td>\n",
       "      <td>0</td>\n",
       "    </tr>\n",
       "    <tr>\n",
       "      <th>1</th>\n",
       "      <td>0</td>\n",
       "      <td>1</td>\n",
       "      <td>0</td>\n",
       "      <td>0</td>\n",
       "      <td>1</td>\n",
       "      <td>12</td>\n",
       "      <td>1</td>\n",
       "      <td>31</td>\n",
       "      <td>113.202938</td>\n",
       "      <td>12</td>\n",
       "      <td>7</td>\n",
       "      <td>1.922936</td>\n",
       "      <td>1.910244</td>\n",
       "      <td>0</td>\n",
       "    </tr>\n",
       "    <tr>\n",
       "      <th>2</th>\n",
       "      <td>0</td>\n",
       "      <td>1</td>\n",
       "      <td>1</td>\n",
       "      <td>0</td>\n",
       "      <td>1</td>\n",
       "      <td>1</td>\n",
       "      <td>0</td>\n",
       "      <td>28</td>\n",
       "      <td>129.448479</td>\n",
       "      <td>1</td>\n",
       "      <td>2</td>\n",
       "      <td>1.859098</td>\n",
       "      <td>1.736502</td>\n",
       "      <td>0</td>\n",
       "    </tr>\n",
       "    <tr>\n",
       "      <th>3</th>\n",
       "      <td>0</td>\n",
       "      <td>1</td>\n",
       "      <td>1</td>\n",
       "      <td>1</td>\n",
       "      <td>1</td>\n",
       "      <td>12</td>\n",
       "      <td>1</td>\n",
       "      <td>33</td>\n",
       "      <td>62.669863</td>\n",
       "      <td>12</td>\n",
       "      <td>2</td>\n",
       "      <td>3.205633</td>\n",
       "      <td>3.357215</td>\n",
       "      <td>0</td>\n",
       "    </tr>\n",
       "    <tr>\n",
       "      <th>4</th>\n",
       "      <td>1</td>\n",
       "      <td>1</td>\n",
       "      <td>1</td>\n",
       "      <td>1</td>\n",
       "      <td>1</td>\n",
       "      <td>1</td>\n",
       "      <td>0</td>\n",
       "      <td>26</td>\n",
       "      <td>198.362265</td>\n",
       "      <td>1</td>\n",
       "      <td>3</td>\n",
       "      <td>1.113884</td>\n",
       "      <td>1.120078</td>\n",
       "      <td>0</td>\n",
       "    </tr>\n",
       "  </tbody>\n",
       "</table>\n",
       "</div>"
      ],
      "text/plain": [
       "   Gender  Near_Location  Partner  Promo_friends  Phone  Contract_period  \\\n",
       "0       1              1        1              1      0                6   \n",
       "1       0              1        0              0      1               12   \n",
       "2       0              1        1              0      1                1   \n",
       "3       0              1        1              1      1               12   \n",
       "4       1              1        1              1      1                1   \n",
       "\n",
       "   Group_visits  Age  Avg_additional_charges_total  Month_to_end_contract  \\\n",
       "0             1   29                     14.227470                      5   \n",
       "1             1   31                    113.202938                     12   \n",
       "2             0   28                    129.448479                      1   \n",
       "3             1   33                     62.669863                     12   \n",
       "4             0   26                    198.362265                      1   \n",
       "\n",
       "   Lifetime  Avg_class_frequency_total  Avg_class_frequency_current_month  \\\n",
       "0         3                   0.020398                           0.000000   \n",
       "1         7                   1.922936                           1.910244   \n",
       "2         2                   1.859098                           1.736502   \n",
       "3         2                   3.205633                           3.357215   \n",
       "4         3                   1.113884                           1.120078   \n",
       "\n",
       "   Churn  \n",
       "0      0  \n",
       "1      0  \n",
       "2      0  \n",
       "3      0  \n",
       "4      0  "
      ]
     },
     "execution_count": 6,
     "metadata": {},
     "output_type": "execute_result"
    }
   ],
   "source": [
    "clients['Month_to_end_contract'] = clients['Month_to_end_contract'].astype('int') # изменим тип данных: количество месяцев - \n",
    "clients.head()                                                                    # целое число"
   ]
  },
  {
   "cell_type": "code",
   "execution_count": 7,
   "metadata": {},
   "outputs": [
    {
     "data": {
      "text/plain": [
       "0"
      ]
     },
     "execution_count": 7,
     "metadata": {},
     "output_type": "execute_result"
    }
   ],
   "source": [
    "clients.duplicated().sum()                            # проверим наличие дубликатов"
   ]
  },
  {
   "cell_type": "markdown",
   "metadata": {},
   "source": [
    "### Вывод:\n",
    "Для прогноза оттока представлены данные о 4 тыс. клиентов. В данных нет пропусков и дубликатов, но обнаружились проблемы с неоднородным наименованием столбцов, а также с типами данных. Проблемы были исправлены."
   ]
  },
  {
   "cell_type": "markdown",
   "metadata": {},
   "source": [
    "## Исследовательский анализ данных (EDA)\n",
    "Посмотрим на датасет и изучим информацию о признаках."
   ]
  },
  {
   "cell_type": "code",
   "execution_count": 10,
   "metadata": {},
   "outputs": [
    {
     "data": {
      "text/html": [
       "<div>\n",
       "<style scoped>\n",
       "    .dataframe tbody tr th:only-of-type {\n",
       "        vertical-align: middle;\n",
       "    }\n",
       "\n",
       "    .dataframe tbody tr th {\n",
       "        vertical-align: top;\n",
       "    }\n",
       "\n",
       "    .dataframe thead th {\n",
       "        text-align: right;\n",
       "    }\n",
       "</style>\n",
       "<table border=\"1\" class=\"dataframe\">\n",
       "  <thead>\n",
       "    <tr style=\"text-align: right;\">\n",
       "      <th></th>\n",
       "      <th>Gender</th>\n",
       "      <th>Near_Location</th>\n",
       "      <th>Partner</th>\n",
       "      <th>Promo_friends</th>\n",
       "      <th>Phone</th>\n",
       "      <th>Contract_period</th>\n",
       "      <th>Group_visits</th>\n",
       "      <th>Age</th>\n",
       "      <th>Avg_additional_charges_total</th>\n",
       "      <th>Month_to_end_contract</th>\n",
       "      <th>Lifetime</th>\n",
       "      <th>Avg_class_frequency_total</th>\n",
       "      <th>Avg_class_frequency_current_month</th>\n",
       "      <th>Churn</th>\n",
       "    </tr>\n",
       "  </thead>\n",
       "  <tbody>\n",
       "    <tr>\n",
       "      <th>count</th>\n",
       "      <td>4000.000000</td>\n",
       "      <td>4000.000000</td>\n",
       "      <td>4000.000000</td>\n",
       "      <td>4000.000000</td>\n",
       "      <td>4000.000000</td>\n",
       "      <td>4000.000000</td>\n",
       "      <td>4000.000000</td>\n",
       "      <td>4000.000000</td>\n",
       "      <td>4000.000000</td>\n",
       "      <td>4000.000000</td>\n",
       "      <td>4000.000000</td>\n",
       "      <td>4000.000000</td>\n",
       "      <td>4000.000000</td>\n",
       "      <td>4000.000000</td>\n",
       "    </tr>\n",
       "    <tr>\n",
       "      <th>mean</th>\n",
       "      <td>0.510250</td>\n",
       "      <td>0.845250</td>\n",
       "      <td>0.486750</td>\n",
       "      <td>0.308500</td>\n",
       "      <td>0.903500</td>\n",
       "      <td>4.681250</td>\n",
       "      <td>0.412250</td>\n",
       "      <td>29.184250</td>\n",
       "      <td>146.943728</td>\n",
       "      <td>4.322750</td>\n",
       "      <td>3.724750</td>\n",
       "      <td>1.879020</td>\n",
       "      <td>1.767052</td>\n",
       "      <td>0.265250</td>\n",
       "    </tr>\n",
       "    <tr>\n",
       "      <th>std</th>\n",
       "      <td>0.499957</td>\n",
       "      <td>0.361711</td>\n",
       "      <td>0.499887</td>\n",
       "      <td>0.461932</td>\n",
       "      <td>0.295313</td>\n",
       "      <td>4.549706</td>\n",
       "      <td>0.492301</td>\n",
       "      <td>3.258367</td>\n",
       "      <td>96.355602</td>\n",
       "      <td>4.191297</td>\n",
       "      <td>3.749267</td>\n",
       "      <td>0.972245</td>\n",
       "      <td>1.052906</td>\n",
       "      <td>0.441521</td>\n",
       "    </tr>\n",
       "    <tr>\n",
       "      <th>min</th>\n",
       "      <td>0.000000</td>\n",
       "      <td>0.000000</td>\n",
       "      <td>0.000000</td>\n",
       "      <td>0.000000</td>\n",
       "      <td>0.000000</td>\n",
       "      <td>1.000000</td>\n",
       "      <td>0.000000</td>\n",
       "      <td>18.000000</td>\n",
       "      <td>0.148205</td>\n",
       "      <td>1.000000</td>\n",
       "      <td>0.000000</td>\n",
       "      <td>0.000000</td>\n",
       "      <td>0.000000</td>\n",
       "      <td>0.000000</td>\n",
       "    </tr>\n",
       "    <tr>\n",
       "      <th>25%</th>\n",
       "      <td>0.000000</td>\n",
       "      <td>1.000000</td>\n",
       "      <td>0.000000</td>\n",
       "      <td>0.000000</td>\n",
       "      <td>1.000000</td>\n",
       "      <td>1.000000</td>\n",
       "      <td>0.000000</td>\n",
       "      <td>27.000000</td>\n",
       "      <td>68.868830</td>\n",
       "      <td>1.000000</td>\n",
       "      <td>1.000000</td>\n",
       "      <td>1.180875</td>\n",
       "      <td>0.963003</td>\n",
       "      <td>0.000000</td>\n",
       "    </tr>\n",
       "    <tr>\n",
       "      <th>50%</th>\n",
       "      <td>1.000000</td>\n",
       "      <td>1.000000</td>\n",
       "      <td>0.000000</td>\n",
       "      <td>0.000000</td>\n",
       "      <td>1.000000</td>\n",
       "      <td>1.000000</td>\n",
       "      <td>0.000000</td>\n",
       "      <td>29.000000</td>\n",
       "      <td>136.220159</td>\n",
       "      <td>1.000000</td>\n",
       "      <td>3.000000</td>\n",
       "      <td>1.832768</td>\n",
       "      <td>1.719574</td>\n",
       "      <td>0.000000</td>\n",
       "    </tr>\n",
       "    <tr>\n",
       "      <th>75%</th>\n",
       "      <td>1.000000</td>\n",
       "      <td>1.000000</td>\n",
       "      <td>1.000000</td>\n",
       "      <td>1.000000</td>\n",
       "      <td>1.000000</td>\n",
       "      <td>6.000000</td>\n",
       "      <td>1.000000</td>\n",
       "      <td>31.000000</td>\n",
       "      <td>210.949625</td>\n",
       "      <td>6.000000</td>\n",
       "      <td>5.000000</td>\n",
       "      <td>2.536078</td>\n",
       "      <td>2.510336</td>\n",
       "      <td>1.000000</td>\n",
       "    </tr>\n",
       "    <tr>\n",
       "      <th>max</th>\n",
       "      <td>1.000000</td>\n",
       "      <td>1.000000</td>\n",
       "      <td>1.000000</td>\n",
       "      <td>1.000000</td>\n",
       "      <td>1.000000</td>\n",
       "      <td>12.000000</td>\n",
       "      <td>1.000000</td>\n",
       "      <td>41.000000</td>\n",
       "      <td>552.590740</td>\n",
       "      <td>12.000000</td>\n",
       "      <td>31.000000</td>\n",
       "      <td>6.023668</td>\n",
       "      <td>6.146783</td>\n",
       "      <td>1.000000</td>\n",
       "    </tr>\n",
       "  </tbody>\n",
       "</table>\n",
       "</div>"
      ],
      "text/plain": [
       "            Gender  Near_Location      Partner  Promo_friends        Phone  \\\n",
       "count  4000.000000    4000.000000  4000.000000    4000.000000  4000.000000   \n",
       "mean      0.510250       0.845250     0.486750       0.308500     0.903500   \n",
       "std       0.499957       0.361711     0.499887       0.461932     0.295313   \n",
       "min       0.000000       0.000000     0.000000       0.000000     0.000000   \n",
       "25%       0.000000       1.000000     0.000000       0.000000     1.000000   \n",
       "50%       1.000000       1.000000     0.000000       0.000000     1.000000   \n",
       "75%       1.000000       1.000000     1.000000       1.000000     1.000000   \n",
       "max       1.000000       1.000000     1.000000       1.000000     1.000000   \n",
       "\n",
       "       Contract_period  Group_visits          Age  \\\n",
       "count      4000.000000   4000.000000  4000.000000   \n",
       "mean          4.681250      0.412250    29.184250   \n",
       "std           4.549706      0.492301     3.258367   \n",
       "min           1.000000      0.000000    18.000000   \n",
       "25%           1.000000      0.000000    27.000000   \n",
       "50%           1.000000      0.000000    29.000000   \n",
       "75%           6.000000      1.000000    31.000000   \n",
       "max          12.000000      1.000000    41.000000   \n",
       "\n",
       "       Avg_additional_charges_total  Month_to_end_contract     Lifetime  \\\n",
       "count                   4000.000000            4000.000000  4000.000000   \n",
       "mean                     146.943728               4.322750     3.724750   \n",
       "std                       96.355602               4.191297     3.749267   \n",
       "min                        0.148205               1.000000     0.000000   \n",
       "25%                       68.868830               1.000000     1.000000   \n",
       "50%                      136.220159               1.000000     3.000000   \n",
       "75%                      210.949625               6.000000     5.000000   \n",
       "max                      552.590740              12.000000    31.000000   \n",
       "\n",
       "       Avg_class_frequency_total  Avg_class_frequency_current_month  \\\n",
       "count                4000.000000                        4000.000000   \n",
       "mean                    1.879020                           1.767052   \n",
       "std                     0.972245                           1.052906   \n",
       "min                     0.000000                           0.000000   \n",
       "25%                     1.180875                           0.963003   \n",
       "50%                     1.832768                           1.719574   \n",
       "75%                     2.536078                           2.510336   \n",
       "max                     6.023668                           6.146783   \n",
       "\n",
       "             Churn  \n",
       "count  4000.000000  \n",
       "mean      0.265250  \n",
       "std       0.441521  \n",
       "min       0.000000  \n",
       "25%       0.000000  \n",
       "50%       0.000000  \n",
       "75%       1.000000  \n",
       "max       1.000000  "
      ]
     },
     "execution_count": 10,
     "metadata": {},
     "output_type": "execute_result"
    }
   ],
   "source": [
    "clients.describe()"
   ]
  },
  {
   "cell_type": "markdown",
   "metadata": {},
   "source": [
    "По результатам видим, что мужчин и женщин в выборке примерно одинаковое количество, средний возраст пользователей составляет около 30 лет. Стандартное отклонение от среднего небольшое, что говорит о небольшом разбросе возрастов (от 18 до 41 года).\n",
    "\n",
    "Большинство пользователей проживает вблизи от фитнес-центра и их телефоны известны компании (об этом говорит среднее по столбцу). По промо-акциям приходит около 30% пользователей, через компании-партнеры  - 48%, то есть последний канал привлечения эффективнее. \n",
    "\n",
    "Половина пользователей пользуется абонементом не более 1 месяца и такой же срок указан для большинства как дата окончания контракта. Это свидельствует о том, что лишь небольшая часть пользователей пользуется долговременным абонементом, у остальных он краткосрочный. Эту информацию подтверждает и столбец `Lifetime`, где 75% клиентов не сотрудничает с клубом дольше 5 месяцев. Средняя частота посещений и частота посещений за текущий месяц примерно повторяют друг друга. В отток ушли 26% клиентов.\n",
    "\n",
    "Посмотрим на средние значения признаков в двух группах — тех, кто ушел в отток и тех, кто остался."
   ]
  },
  {
   "cell_type": "code",
   "execution_count": 11,
   "metadata": {},
   "outputs": [
    {
     "data": {
      "text/html": [
       "<div>\n",
       "<style scoped>\n",
       "    .dataframe tbody tr th:only-of-type {\n",
       "        vertical-align: middle;\n",
       "    }\n",
       "\n",
       "    .dataframe tbody tr th {\n",
       "        vertical-align: top;\n",
       "    }\n",
       "\n",
       "    .dataframe thead th {\n",
       "        text-align: right;\n",
       "    }\n",
       "</style>\n",
       "<table border=\"1\" class=\"dataframe\">\n",
       "  <thead>\n",
       "    <tr style=\"text-align: right;\">\n",
       "      <th></th>\n",
       "      <th>Gender</th>\n",
       "      <th>Near_Location</th>\n",
       "      <th>Partner</th>\n",
       "      <th>Promo_friends</th>\n",
       "      <th>Phone</th>\n",
       "      <th>Contract_period</th>\n",
       "      <th>Group_visits</th>\n",
       "      <th>Age</th>\n",
       "      <th>Avg_additional_charges_total</th>\n",
       "      <th>Month_to_end_contract</th>\n",
       "      <th>Lifetime</th>\n",
       "      <th>Avg_class_frequency_total</th>\n",
       "      <th>Avg_class_frequency_current_month</th>\n",
       "    </tr>\n",
       "    <tr>\n",
       "      <th>Churn</th>\n",
       "      <th></th>\n",
       "      <th></th>\n",
       "      <th></th>\n",
       "      <th></th>\n",
       "      <th></th>\n",
       "      <th></th>\n",
       "      <th></th>\n",
       "      <th></th>\n",
       "      <th></th>\n",
       "      <th></th>\n",
       "      <th></th>\n",
       "      <th></th>\n",
       "      <th></th>\n",
       "    </tr>\n",
       "  </thead>\n",
       "  <tbody>\n",
       "    <tr>\n",
       "      <th>0</th>\n",
       "      <td>0.510037</td>\n",
       "      <td>0.873086</td>\n",
       "      <td>0.534195</td>\n",
       "      <td>0.353522</td>\n",
       "      <td>0.903709</td>\n",
       "      <td>5.747193</td>\n",
       "      <td>0.464103</td>\n",
       "      <td>29.976523</td>\n",
       "      <td>158.445715</td>\n",
       "      <td>5.283089</td>\n",
       "      <td>4.711807</td>\n",
       "      <td>2.024876</td>\n",
       "      <td>2.027882</td>\n",
       "    </tr>\n",
       "    <tr>\n",
       "      <th>1</th>\n",
       "      <td>0.510839</td>\n",
       "      <td>0.768143</td>\n",
       "      <td>0.355325</td>\n",
       "      <td>0.183789</td>\n",
       "      <td>0.902922</td>\n",
       "      <td>1.728558</td>\n",
       "      <td>0.268615</td>\n",
       "      <td>26.989632</td>\n",
       "      <td>115.082899</td>\n",
       "      <td>1.662582</td>\n",
       "      <td>0.990575</td>\n",
       "      <td>1.474995</td>\n",
       "      <td>1.044546</td>\n",
       "    </tr>\n",
       "  </tbody>\n",
       "</table>\n",
       "</div>"
      ],
      "text/plain": [
       "         Gender  Near_Location   Partner  Promo_friends     Phone  \\\n",
       "Churn                                                               \n",
       "0      0.510037       0.873086  0.534195       0.353522  0.903709   \n",
       "1      0.510839       0.768143  0.355325       0.183789  0.902922   \n",
       "\n",
       "       Contract_period  Group_visits        Age  Avg_additional_charges_total  \\\n",
       "Churn                                                                           \n",
       "0             5.747193      0.464103  29.976523                    158.445715   \n",
       "1             1.728558      0.268615  26.989632                    115.082899   \n",
       "\n",
       "       Month_to_end_contract  Lifetime  Avg_class_frequency_total  \\\n",
       "Churn                                                               \n",
       "0                   5.283089  4.711807                   2.024876   \n",
       "1                   1.662582  0.990575                   1.474995   \n",
       "\n",
       "       Avg_class_frequency_current_month  \n",
       "Churn                                     \n",
       "0                               2.027882  \n",
       "1                               1.044546  "
      ]
     },
     "execution_count": 11,
     "metadata": {},
     "output_type": "execute_result"
    }
   ],
   "source": [
    "clients.groupby('Churn').mean()"
   ]
  },
  {
   "cell_type": "markdown",
   "metadata": {},
   "source": [
    "На этой таблице видим несколько интересных особенностей:\n",
    "- клиенты, привлеченные в рамках акций или через компании-партнеры, остаются примерно в 1,5-2 раза чаще чем уходят;\n",
    "- чем дольше  и чаще клиент пользуется фитнес-центром, тем реже он попадает в отток;\n",
    "- клиенты, которые попадают в отток, реже посещают групповые занятия и в целом меньше пользуются дополнительными услугами фитнес-центра (возможно просто не успевают этого сделать за короткий срок действия абонемента?).\n",
    "\n",
    "Построим столбчатые гистограммы и диаграммы распределения признаков для тех, кто ушёл (отток) и тех, кто остался (не попали в отток)"
   ]
  },
  {
   "cell_type": "code",
   "execution_count": 12,
   "metadata": {},
   "outputs": [],
   "source": [
    "# разделим столбцы на две группы: категориальные и числовые\n",
    "# так графики тоже будут разбиты на две группы и их проще будет рассмотреть\n",
    "\n",
    "binar_list = ['Gender', 'Near_Location', 'Partner', 'Promo_friends', 'Phone', 'Group_visits', 'Churn']\n",
    "not_binar_list = ['Contract_period', 'Age', 'Avg_additional_charges_total', 'Month_to_end_contract', 'Lifetime', \n",
    "                  'Avg_class_frequency_total', 'Avg_class_frequency_current_month']"
   ]
  },
  {
   "cell_type": "code",
   "execution_count": 13,
   "metadata": {
    "scrolled": false
   },
   "outputs": [
    {
     "data": {
      "image/png": "[encoded data removed]",
      "text/plain": [
       "<Figure size 402.375x360 with 1 Axes>"
      ]
     },
     "metadata": {
      "needs_background": "light"
     },
     "output_type": "display_data"
    },
    {
     "data": {
      "image/png": "[encoded data removed]",
      "text/plain": [
       "<Figure size 402.375x360 with 1 Axes>"
      ]
     },
     "metadata": {
      "needs_background": "light"
     },
     "output_type": "display_data"
    },
    {
     "data": {
      "image/png": "[encoded data removed]",
      "text/plain": [
       "<Figure size 402.375x360 with 1 Axes>"
      ]
     },
     "metadata": {
      "needs_background": "light"
     },
     "output_type": "display_data"
    },
    {
     "data": {
      "image/png": "[encoded data removed]",
      "text/plain": [
       "<Figure size 402.375x360 with 1 Axes>"
      ]
     },
     "metadata": {
      "needs_background": "light"
     },
     "output_type": "display_data"
    },
    {
     "data": {
      "image/png": "[encoded data removed]",
      "text/plain": [
       "<Figure size 402.375x360 with 1 Axes>"
      ]
     },
     "metadata": {
      "needs_background": "light"
     },
     "output_type": "display_data"
    },
    {
     "data": {
      "image/png": "[encoded data removed]",
      "text/plain": [
       "<Figure size 402.375x360 with 1 Axes>"
      ]
     },
     "metadata": {
      "needs_background": "light"
     },
     "output_type": "display_data"
    },
    {
     "data": {
      "image/png": "[encoded data removed]",
      "text/plain": [
       "<Figure size 402.375x360 with 1 Axes>"
      ]
     },
     "metadata": {
      "needs_background": "light"
     },
     "output_type": "display_data"
    }
   ],
   "source": [
    "# постороим столбчатые диаграммы для тех признаков, которые содержат бинарные значения, с разбивкой по столбцу \"Churn\"\n",
    "\n",
    "for i in binar_list:\n",
    "    sns.displot(data=clients, x = i, multiple='dodge', hue='Churn')\n",
    "plt.show()"
   ]
  },
  {
   "cell_type": "markdown",
   "metadata": {},
   "source": [
    "Диаграммы большей частью подтверждают выводы относительно пола, место проживания, канала привлечения и групповых посещений, сделанные ранее."
   ]
  },
  {
   "cell_type": "code",
   "execution_count": 14,
   "metadata": {
    "scrolled": false
   },
   "outputs": [
    {
     "data": {
      "image/png": "[encoded data removed]",
      "text/plain": [
       "<Figure size 402.375x360 with 1 Axes>"
      ]
     },
     "metadata": {
      "needs_background": "light"
     },
     "output_type": "display_data"
    },
    {
     "data": {
      "image/png": "[encoded data removed]",
      "text/plain": [
       "<Figure size 402.375x360 with 1 Axes>"
      ]
     },
     "metadata": {
      "needs_background": "light"
     },
     "output_type": "display_data"
    },
    {
     "data": {
      "image/png": "[encoded data removed]",
      "text/plain": [
       "<Figure size 402.375x360 with 1 Axes>"
      ]
     },
     "metadata": {
      "needs_background": "light"
     },
     "output_type": "display_data"
    },
    {
     "data": {
      "image/png": "[encoded data removed]",
      "text/plain": [
       "<Figure size 402.375x360 with 1 Axes>"
      ]
     },
     "metadata": {
      "needs_background": "light"
     },
     "output_type": "display_data"
    },
    {
     "data": {
      "image/png": "[encoded data removed]",
      "text/plain": [
       "<Figure size 402.375x360 with 1 Axes>"
      ]
     },
     "metadata": {
      "needs_background": "light"
     },
     "output_type": "display_data"
    },
    {
     "data": {
      "image/png": "[encoded data removed]",
      "text/plain": [
       "<Figure size 402.375x360 with 1 Axes>"
      ]
     },
     "metadata": {
      "needs_background": "light"
     },
     "output_type": "display_data"
    },
    {
     "data": {
      "image/png": "[encoded data removed]",
      "text/plain": [
       "<Figure size 402.375x360 with 1 Axes>"
      ]
     },
     "metadata": {
      "needs_background": "light"
     },
     "output_type": "display_data"
    }
   ],
   "source": [
    "# повторим то же самое для недискретных признаков в сочетании c оценкой плотности ядра\n",
    "\n",
    "for i in not_binar_list:\n",
    "    sns.displot(data=clients, x = i, multiple='dodge', hue='Churn', kde = True)\n",
    "plt.show()"
   ]
  },
  {
   "cell_type": "markdown",
   "metadata": {},
   "source": [
    "Эти диаграммы дают нам чуть больше сведений:\n",
    "- для абонементов продолжительностью в 1 месяц доля оттока очень большая, чем длиннее абонемент, тем меньше вероятность оттока;\n",
    "- распределение на графике возраста близко к нормальному, а клиенты, ушедшие в отток, моложе, чем те, кто остается;\n",
    "- графики трат на дополнительные услуги скошены вправо, то есть включают небольшое количество крупных трат, которое смещает среднее в большую сторону;\n",
    "- клиенты, ушедшие в отток, посещают фитнес-центр редко, а в текущем месяце заметен явный выброс в районе 0."
   ]
  },
  {
   "cell_type": "code",
   "execution_count": 15,
   "metadata": {},
   "outputs": [
    {
     "data": {
      "image/png": "[encoded data removed]",
      "text/plain": [
       "<Figure size 720x720 with 2 Axes>"
      ]
     },
     "metadata": {
      "needs_background": "light"
     },
     "output_type": "display_data"
    }
   ],
   "source": [
    "corr_m = clients.corr()                       # создадим матрицу корреляций и нарисуем heatmap по данным без выбросов\n",
    "\n",
    "plt.figure(figsize = (10,10)) \n",
    "sns.heatmap(corr_m, square=True, annot=True)\n",
    "plt.show()"
   ]
  },
  {
   "cell_type": "markdown",
   "metadata": {},
   "source": [
    "### Вывод:\n",
    "\n",
    "На данном шаге изучили представленные данные. Среди признаков представлены категориальные и числовые переменные. Для каждой из групп построили гистограммы и диаграммы распределения, а также нашли взаимную корреляцию между всеми признаками.\n",
    "\n",
    "По результатам видим, что возраст пользователей колеблется от 18 до 41 года, а среднее значение составляет около 30 лет. Большинство пользователей проживает рядом с фитнес-центром. Из каналов привлечения наиболее эффективно работает сотрудничество  с другими компаниями. А самой высокой популярностью пользуются краткосрочные абонементы. Из всех клиентов, представленных в датасете, в отток ушли 26%.\n",
    "\n",
    "Относительно прогнозирования оттока можно сказать следующее:\n",
    "- чем дольше  и чаще клиент пользуется фитнес-центром, тем реже он попадает в отток;\n",
    "- клиенты, привлеченные в рамках акций или через компании-партнеры, остаются примерно в 1,5-2 раза чаще чем уходят;\n",
    "- клиенты, которые попадают в отток, реже пользуются дополнительными услугами фитнес-центра;\n",
    "- клиенты, ушедшие в отток, моложе, чем те, кто остается.\n",
    "\n",
    "Таким образом, для прогноза важны такие признаки как частота посещений в текущем месяце, срок действия контракта и срок взаимодействия клиента с компанией, а также возраст клиента. Эти выводы подтверждает тепловая карта: эти признаки имеют наиболее высокую корреляцию с целевой переменной `Churn`.\n",
    "\n",
    "Обучим модели для прогнозирования оттока."
   ]
  },
  {
   "cell_type": "markdown",
   "metadata": {},
   "source": [
    "## Mодель прогнозирования оттока клиентов\n",
    "### Модель логистической регрессии"
   ]
  },
  {
   "cell_type": "code",
   "execution_count": 16,
   "metadata": {},
   "outputs": [],
   "source": [
    "X = clients.drop(['Churn'], axis=1)                      # разделяем данные на обучающую и валидационную выборки\n",
    "y = clients['Churn']\n",
    "\n",
    "\n",
    "X_train, X_test, y_train, y_test = train_test_split(X, y, test_size=0.2, random_state=0, stratify=y)"
   ]
  },
  {
   "cell_type": "code",
   "execution_count": 17,
   "metadata": {},
   "outputs": [],
   "source": [
    "def print_all_metrics(y_true, y_pred, y_proba, title):   # создадим функцию для отображения необходимых метрик\n",
    "    print(title)\n",
    "    print('\\tAccuracy: {:.2f}'.format(accuracy_score(y_true, y_pred)))\n",
    "    print('\\tPrecision: {:.2f}'.format(precision_score(y_true, y_pred)))\n",
    "    print('\\tRecall: {:.2f}'.format(recall_score(y_true, y_pred)))"
   ]
  },
  {
   "cell_type": "markdown",
   "metadata": {},
   "source": [
    "Поскольку перед нами стоит задача бинарной классификации, то в качестве алгоритма выберем логистическую регрессию. Стоит проверить, как будет работать модель с указанным порогом и без него, так как доля клиентов в оттоке в три раза меньше, чем оставшихся."
   ]
  },
  {
   "cell_type": "code",
   "execution_count": 18,
   "metadata": {},
   "outputs": [],
   "source": [
    "lr_model = LogisticRegression(solver='liblinear')               # выберем модель логистической регрессии\n",
    "\n",
    "threshold = 0.3                                                 # зададим порог, чтобы результаты получились более точными      \n",
    "lr_model.fit(X_train, y_train)                                  # обучим модель\n",
    "\n",
    "lr_predictions = lr_model.predict(X_test)                       # сделаем прогноз\n",
    "lr_probabilities = lr_model.predict_proba(X_test)[:, 1]         # получим вероятность оттока клиента"
   ]
  },
  {
   "cell_type": "code",
   "execution_count": 19,
   "metadata": {},
   "outputs": [
    {
     "name": "stdout",
     "output_type": "stream",
     "text": [
      "Метрики для модели логистической регрессии:\n",
      "\tAccuracy: 0.93\n",
      "\tPrecision: 0.89\n",
      "\tRecall: 0.84\n"
     ]
    }
   ],
   "source": [
    "print_all_metrics(\n",
    "    y_test,\n",
    "    lr_predictions,\n",
    "    lr_probabilities,\n",
    "    title='Метрики для модели логистической регрессии:',\n",
    ")"
   ]
  },
  {
   "cell_type": "code",
   "execution_count": 20,
   "metadata": {},
   "outputs": [],
   "source": [
    "custom_predictions = [0 if i < threshold else 1 for i in lr_probabilities]   # посчитаем метрики с учетом порога"
   ]
  },
  {
   "cell_type": "code",
   "execution_count": 21,
   "metadata": {},
   "outputs": [
    {
     "name": "stdout",
     "output_type": "stream",
     "text": [
      "Метрики для модели логистической регрессии с учетом порога:\n",
      "\tAccuracy: 0.91\n",
      "\tPrecision: 0.79\n",
      "\tRecall: 0.91\n"
     ]
    }
   ],
   "source": [
    "print_all_metrics(\n",
    "    y_test,\n",
    "    custom_predictions,\n",
    "    lr_probabilities,\n",
    "    title='Метрики для модели логистической регрессии с учетом порога:')"
   ]
  },
  {
   "cell_type": "markdown",
   "metadata": {},
   "source": [
    "Мы добились, что доля правильных ответов понизилась, равно как и доля правильных ответов среди клиентов, уходящих в отток. Зато благодаря балансу классов удалось повысить количество найденных клиентов с высокой вероятностью ухода. Но первая модель все-таки работает лучше. "
   ]
  },
  {
   "cell_type": "markdown",
   "metadata": {},
   "source": [
    "### Модель случайного леса"
   ]
  },
  {
   "cell_type": "code",
   "execution_count": 22,
   "metadata": {},
   "outputs": [],
   "source": [
    "rf_model = RandomForestClassifier(n_estimators = 100)       # для сравнения выберем модель случайного леса\n",
    "\n",
    "rf_model.fit(X_train, y_train)                              # обучим модель\n",
    "\n",
    "rf_predictions = rf_model.predict(X_test)                   # сделаем прогноз\n",
    "rf_probabilities = rf_model.predict_proba(X_test)[:, 1]     # получим вероятность оттока клиента для тестовой выборки"
   ]
  },
  {
   "cell_type": "code",
   "execution_count": 23,
   "metadata": {},
   "outputs": [
    {
     "name": "stdout",
     "output_type": "stream",
     "text": [
      "Метрики для модели случайного леса:\n",
      "\tAccuracy: 0.92\n",
      "\tPrecision: 0.88\n",
      "\tRecall: 0.82\n"
     ]
    }
   ],
   "source": [
    "print_all_metrics(\n",
    "    y_test,\n",
    "    rf_predictions,\n",
    "    rf_probabilities,\n",
    "    title='Метрики для модели случайного леса:')"
   ]
  },
  {
   "cell_type": "markdown",
   "metadata": {},
   "source": [
    "Качество модели логистической регрессии немного превосходит модель случайного леса. \n",
    "\n",
    "### Вывод:\n",
    "Судя по метрикам, лучше всего работает модель логистической регрессии без указания порога."
   ]
  },
  {
   "cell_type": "markdown",
   "metadata": {},
   "source": [
    "## Кластеризация клиентов"
   ]
  },
  {
   "cell_type": "code",
   "execution_count": 24,
   "metadata": {},
   "outputs": [],
   "source": [
    "sc = StandardScaler()                                     # стандартизируем данные\n",
    "x_sc = sc.fit_transform(clients)"
   ]
  },
  {
   "cell_type": "code",
   "execution_count": 25,
   "metadata": {},
   "outputs": [
    {
     "data": {
      "image/png": "[encoded data removed]",
      "text/plain": [
       "<Figure size 864x504 with 1 Axes>"
      ]
     },
     "metadata": {
      "needs_background": "light"
     },
     "output_type": "display_data"
    }
   ],
   "source": [
    "linked  = linkage(x_sc, 'ward')                           # нарисуем дендрограмму\n",
    "fig = plt.figure(figsize=(12, 7))\n",
    "dendrogram(linked, orientation='top')\n",
    "plt.title('Иерархическая кластеризация для клиентов')\n",
    "plt.show()"
   ]
  },
  {
   "cell_type": "markdown",
   "metadata": {},
   "source": [
    "Судя по набору цветов на дендрограмме данные имеет смысл делить на 5 кластеров."
   ]
  },
  {
   "cell_type": "code",
   "execution_count": 26,
   "metadata": {},
   "outputs": [],
   "source": [
    "km = KMeans(n_clusters=5, random_state=0)\n",
    "labels = km.fit_predict(x_sc)                                   # применяем алгоритм к данным и формируем вектор кластеров "
   ]
  },
  {
   "cell_type": "code",
   "execution_count": 27,
   "metadata": {},
   "outputs": [],
   "source": [
    "clients['cluster_km'] = labels"
   ]
  },
  {
   "cell_type": "code",
   "execution_count": 28,
   "metadata": {},
   "outputs": [
    {
     "data": {
      "text/html": [
       "<div>\n",
       "<style scoped>\n",
       "    .dataframe tbody tr th:only-of-type {\n",
       "        vertical-align: middle;\n",
       "    }\n",
       "\n",
       "    .dataframe tbody tr th {\n",
       "        vertical-align: top;\n",
       "    }\n",
       "\n",
       "    .dataframe thead th {\n",
       "        text-align: right;\n",
       "    }\n",
       "</style>\n",
       "<table border=\"1\" class=\"dataframe\">\n",
       "  <thead>\n",
       "    <tr style=\"text-align: right;\">\n",
       "      <th></th>\n",
       "      <th>Gender</th>\n",
       "      <th>Near_Location</th>\n",
       "      <th>Partner</th>\n",
       "      <th>Promo_friends</th>\n",
       "      <th>Phone</th>\n",
       "      <th>Contract_period</th>\n",
       "      <th>Group_visits</th>\n",
       "      <th>Age</th>\n",
       "      <th>Avg_additional_charges_total</th>\n",
       "      <th>Month_to_end_contract</th>\n",
       "      <th>Lifetime</th>\n",
       "      <th>Avg_class_frequency_total</th>\n",
       "      <th>Avg_class_frequency_current_month</th>\n",
       "      <th>Churn</th>\n",
       "    </tr>\n",
       "    <tr>\n",
       "      <th>cluster_km</th>\n",
       "      <th></th>\n",
       "      <th></th>\n",
       "      <th></th>\n",
       "      <th></th>\n",
       "      <th></th>\n",
       "      <th></th>\n",
       "      <th></th>\n",
       "      <th></th>\n",
       "      <th></th>\n",
       "      <th></th>\n",
       "      <th></th>\n",
       "      <th></th>\n",
       "      <th></th>\n",
       "      <th></th>\n",
       "    </tr>\n",
       "  </thead>\n",
       "  <tbody>\n",
       "    <tr>\n",
       "      <th>0</th>\n",
       "      <td>0.503676</td>\n",
       "      <td>0.000000</td>\n",
       "      <td>0.459559</td>\n",
       "      <td>0.075368</td>\n",
       "      <td>0.917279</td>\n",
       "      <td>2.069853</td>\n",
       "      <td>0.211397</td>\n",
       "      <td>28.522059</td>\n",
       "      <td>132.741216</td>\n",
       "      <td>1.950368</td>\n",
       "      <td>2.757353</td>\n",
       "      <td>1.706629</td>\n",
       "      <td>1.515890</td>\n",
       "      <td>0.450368</td>\n",
       "    </tr>\n",
       "    <tr>\n",
       "      <th>1</th>\n",
       "      <td>0.492829</td>\n",
       "      <td>0.936115</td>\n",
       "      <td>0.764016</td>\n",
       "      <td>0.534550</td>\n",
       "      <td>0.919166</td>\n",
       "      <td>10.447197</td>\n",
       "      <td>0.516297</td>\n",
       "      <td>29.962190</td>\n",
       "      <td>161.853561</td>\n",
       "      <td>9.477184</td>\n",
       "      <td>4.833116</td>\n",
       "      <td>2.788103</td>\n",
       "      <td>2.786919</td>\n",
       "      <td>0.007823</td>\n",
       "    </tr>\n",
       "    <tr>\n",
       "      <th>2</th>\n",
       "      <td>0.507917</td>\n",
       "      <td>1.000000</td>\n",
       "      <td>0.323995</td>\n",
       "      <td>0.213155</td>\n",
       "      <td>0.903776</td>\n",
       "      <td>1.546894</td>\n",
       "      <td>0.287454</td>\n",
       "      <td>26.926918</td>\n",
       "      <td>113.173051</td>\n",
       "      <td>1.500609</td>\n",
       "      <td>1.031669</td>\n",
       "      <td>1.449720</td>\n",
       "      <td>1.037592</td>\n",
       "      <td>0.961023</td>\n",
       "    </tr>\n",
       "    <tr>\n",
       "      <th>3</th>\n",
       "      <td>0.521186</td>\n",
       "      <td>0.996610</td>\n",
       "      <td>0.282203</td>\n",
       "      <td>0.208475</td>\n",
       "      <td>0.904237</td>\n",
       "      <td>1.882203</td>\n",
       "      <td>0.452542</td>\n",
       "      <td>30.237288</td>\n",
       "      <td>157.988625</td>\n",
       "      <td>1.794915</td>\n",
       "      <td>4.923729</td>\n",
       "      <td>2.203432</td>\n",
       "      <td>2.207359</td>\n",
       "      <td>0.003390</td>\n",
       "    </tr>\n",
       "    <tr>\n",
       "      <th>4</th>\n",
       "      <td>0.518895</td>\n",
       "      <td>0.968023</td>\n",
       "      <td>0.744186</td>\n",
       "      <td>0.526163</td>\n",
       "      <td>0.873547</td>\n",
       "      <td>8.859012</td>\n",
       "      <td>0.534884</td>\n",
       "      <td>29.728198</td>\n",
       "      <td>162.907495</td>\n",
       "      <td>8.155523</td>\n",
       "      <td>4.411337</td>\n",
       "      <td>0.957744</td>\n",
       "      <td>0.943967</td>\n",
       "      <td>0.024709</td>\n",
       "    </tr>\n",
       "  </tbody>\n",
       "</table>\n",
       "</div>"
      ],
      "text/plain": [
       "              Gender  Near_Location   Partner  Promo_friends     Phone  \\\n",
       "cluster_km                                                               \n",
       "0           0.503676       0.000000  0.459559       0.075368  0.917279   \n",
       "1           0.492829       0.936115  0.764016       0.534550  0.919166   \n",
       "2           0.507917       1.000000  0.323995       0.213155  0.903776   \n",
       "3           0.521186       0.996610  0.282203       0.208475  0.904237   \n",
       "4           0.518895       0.968023  0.744186       0.526163  0.873547   \n",
       "\n",
       "            Contract_period  Group_visits        Age  \\\n",
       "cluster_km                                             \n",
       "0                  2.069853      0.211397  28.522059   \n",
       "1                 10.447197      0.516297  29.962190   \n",
       "2                  1.546894      0.287454  26.926918   \n",
       "3                  1.882203      0.452542  30.237288   \n",
       "4                  8.859012      0.534884  29.728198   \n",
       "\n",
       "            Avg_additional_charges_total  Month_to_end_contract  Lifetime  \\\n",
       "cluster_km                                                                  \n",
       "0                             132.741216               1.950368  2.757353   \n",
       "1                             161.853561               9.477184  4.833116   \n",
       "2                             113.173051               1.500609  1.031669   \n",
       "3                             157.988625               1.794915  4.923729   \n",
       "4                             162.907495               8.155523  4.411337   \n",
       "\n",
       "            Avg_class_frequency_total  Avg_class_frequency_current_month  \\\n",
       "cluster_km                                                                 \n",
       "0                            1.706629                           1.515890   \n",
       "1                            2.788103                           2.786919   \n",
       "2                            1.449720                           1.037592   \n",
       "3                            2.203432                           2.207359   \n",
       "4                            0.957744                           0.943967   \n",
       "\n",
       "               Churn  \n",
       "cluster_km            \n",
       "0           0.450368  \n",
       "1           0.007823  \n",
       "2           0.961023  \n",
       "3           0.003390  \n",
       "4           0.024709  "
      ]
     },
     "execution_count": 28,
     "metadata": {},
     "output_type": "execute_result"
    }
   ],
   "source": [
    "mean_by_clusters = clients.groupby('cluster_km').mean()      # выводим статистику по средним значениям признаков по кластеру\n",
    "mean_by_clusters"
   ]
  },
  {
   "cell_type": "markdown",
   "metadata": {},
   "source": [
    "По данной таблице можно заметить, что больше всего склонны к оттоку посетители, которые вошли в **1-ый кластер**. Они отличаются от остальных небольшим процентом привлеченных по промо-акциям или через компании-партнеры, самым маленьким периодом действия контракта и низкой посещаемостью групповых занятий. Самый низкий отток демонстрирует **3-ий кластер**, который включает клиентов, многие из которых живут поблизости и были привлечены через компании-партнеры. Они в среднем выбирают абонемент от 3 месяцев и активно пользуются услугами фитнес-центра уже продолжительное время.\n",
    "\n",
    "Построим распределения признаков для кластеров."
   ]
  },
  {
   "cell_type": "code",
   "execution_count": 29,
   "metadata": {
    "scrolled": false
   },
   "outputs": [
    {
     "data": {
      "image/png": "[encoded data removed]",
      "text/plain": [
       "<Figure size 422.5x360 with 1 Axes>"
      ]
     },
     "metadata": {
      "needs_background": "light"
     },
     "output_type": "display_data"
    },
    {
     "data": {
      "image/png": "[encoded data removed]",
      "text/plain": [
       "<Figure size 422.5x360 with 1 Axes>"
      ]
     },
     "metadata": {
      "needs_background": "light"
     },
     "output_type": "display_data"
    },
    {
     "data": {
      "image/png": "[encoded data removed]",
      "text/plain": [
       "<Figure size 422.5x360 with 1 Axes>"
      ]
     },
     "metadata": {
      "needs_background": "light"
     },
     "output_type": "display_data"
    },
    {
     "data": {
      "image/png": "[encoded data removed]",
      "text/plain": [
       "<Figure size 422.5x360 with 1 Axes>"
      ]
     },
     "metadata": {
      "needs_background": "light"
     },
     "output_type": "display_data"
    },
    {
     "data": {
      "image/png": "[encoded data removed]",
      "text/plain": [
       "<Figure size 422.5x360 with 1 Axes>"
      ]
     },
     "metadata": {
      "needs_background": "light"
     },
     "output_type": "display_data"
    },
    {
     "data": {
      "image/png": "[encoded data removed]",
      "text/plain": [
       "<Figure size 422.5x360 with 1 Axes>"
      ]
     },
     "metadata": {
      "needs_background": "light"
     },
     "output_type": "display_data"
    },
    {
     "data": {
      "image/png": "[encoded data removed]",
      "text/plain": [
       "<Figure size 422.5x360 with 1 Axes>"
      ]
     },
     "metadata": {
      "needs_background": "light"
     },
     "output_type": "display_data"
    }
   ],
   "source": [
    "for i in binar_list:\n",
    "    sns.displot(data=clients, x = i, multiple='dodge', hue='cluster_km', palette = 'Dark2')\n",
    "plt.show()"
   ]
  },
  {
   "cell_type": "markdown",
   "metadata": {},
   "source": [
    "На последнем графике видно, что 1-ый кластер почти полностью ушел в отток, а также незначительная часть 4-го."
   ]
  },
  {
   "cell_type": "code",
   "execution_count": 30,
   "metadata": {
    "scrolled": false
   },
   "outputs": [
    {
     "data": {
      "image/png": "[encoded data removed]",
      "text/plain": [
       "<Figure size 864x360 with 1 Axes>"
      ]
     },
     "metadata": {
      "needs_background": "light"
     },
     "output_type": "display_data"
    },
    {
     "data": {
      "image/png": "[encoded data removed]",
      "text/plain": [
       "<Figure size 864x360 with 1 Axes>"
      ]
     },
     "metadata": {
      "needs_background": "light"
     },
     "output_type": "display_data"
    },
    {
     "data": {
      "image/png": "[encoded data removed]",
      "text/plain": [
       "<Figure size 864x360 with 1 Axes>"
      ]
     },
     "metadata": {
      "needs_background": "light"
     },
     "output_type": "display_data"
    },
    {
     "data": {
      "image/png": "[encoded data removed]",
      "text/plain": [
       "<Figure size 864x360 with 1 Axes>"
      ]
     },
     "metadata": {
      "needs_background": "light"
     },
     "output_type": "display_data"
    },
    {
     "data": {
      "image/png": "[encoded data removed]",
      "text/plain": [
       "<Figure size 864x360 with 1 Axes>"
      ]
     },
     "metadata": {
      "needs_background": "light"
     },
     "output_type": "display_data"
    },
    {
     "data": {
      "image/png": "[encoded data removed]",
      "text/plain": [
       "<Figure size 864x360 with 1 Axes>"
      ]
     },
     "metadata": {
      "needs_background": "light"
     },
     "output_type": "display_data"
    },
    {
     "data": {
      "image/png": "[encoded data removed]",
      "text/plain": [
       "<Figure size 864x360 with 1 Axes>"
      ]
     },
     "metadata": {
      "needs_background": "light"
     },
     "output_type": "display_data"
    }
   ],
   "source": [
    "for i in not_binar_list:\n",
    "    fig = plt.figure(figsize=(12, 5))\n",
    "    sns.kdeplot(data=clients, x = i, multiple='layer', hue='cluster_km', palette='Dark2')\n",
    "plt.show()"
   ]
  },
  {
   "cell_type": "markdown",
   "metadata": {},
   "source": [
    "### Вывод:\n",
    "На основе кластеризации с использованием алгоритма K-Means можем сделать вывод, что хуже всего удерживаются новые клиенты, которые приобрели абонемент на 1 месяц без скидок и компенсаций. Их возраст в среднем на несколько лет меньше, чем у постоянных клиентов, а также они реже склонны посещать групповые занятия и приобретать дополнительные услуги. Возможно, решение о покупке принимается такими клиентами спонтанно, под влиянием желания \"начать новую жизнь с понедельника\", а после нескольких посещений энтузиазм пропадает.\n",
    "\n",
    "Клиенты, которые, наоборот, приобретают абонементы длительностью от 3 месяцев, пользуются скидками или льготами партнеров, а также имеют длительный опыт взаимодействия с фитнес-центром, уходят в отток значительно реже."
   ]
  },
  {
   "cell_type": "markdown",
   "metadata": {},
   "source": [
    "## Общие выводы и рекомендации:\n",
    "Большинство клиентов фитнес-центра составляют посетители, проживающие неподалеку от него. Средний возраст клиента составляет около 29 лет и варьируется в пределах +/- 10 лет. Доля оттока составляет чуть больше четверти посетителей.\n",
    "\n",
    "Как правило, занятия бросают те, кто приобретает краткосрочные абонементы под влиянием момента, но за месяц не успевает оценить преимуществ фитнес-центра или почувствовать результата/удовольствия от занятий. Средний возраст таких клиентов составляет около 26 лет, они не пользуются скидками и привилегиями, а также избегают использования дополнительных услуг и групповых занятий (возможно, в целях экономии или из-за плохой осведомленности). В связи с этим, предлагаем следующие меры попредотвращению оттока кллиентов:\n",
    "1) Организовать промо-акции конкретно для новичков. Исследование показало, что клиенты, привлеченные в рамках акций покидают клуб в 1,5-2 раза реже.\n",
    "2) Стимулировать продление абонемента, так как за срок от 3 месяцев формируется лояльность к конкретному заведению.\n",
    "3) Организовать экскурсии и пробные занятия для новичков с целью познакомить их с групповыми тренировками и дополнительными услугами центра.\n",
    "4) Промо-акции имеет смысл проводить для жителей близлежащих районов: необходимость долго добираться до спортзала не стимулирует продолжать занятия. Самым простым и доступным каналом кажется телефон: данные о номерах хранятся почти для каждого клиента.\n",
    "5) Возможно, ориентация в ходе рекламных компаний на более молодую аудиторию сможет дать свои плоды. Пока клиенты, уходящие в отток, моложе остающихся."
   ]
  }
 ],
 "metadata": {
  "ExecuteTimeLog": [
   {
    "duration": 1603,
    "start_time": "2022-06-30T11:46:05.576Z"
   },
   {
    "duration": 115,
    "start_time": "2022-06-30T11:46:36.904Z"
   },
   {
    "duration": 44,
    "start_time": "2022-06-30T11:46:46.312Z"
   },
   {
    "duration": 18,
    "start_time": "2022-06-30T11:47:24.973Z"
   },
   {
    "duration": 46,
    "start_time": "2022-06-30T11:48:34.634Z"
   },
   {
    "duration": 13,
    "start_time": "2022-06-30T11:49:10.437Z"
   },
   {
    "duration": 1377,
    "start_time": "2022-06-30T11:58:10.064Z"
   },
   {
    "duration": 22,
    "start_time": "2022-06-30T11:58:11.442Z"
   },
   {
    "duration": 20,
    "start_time": "2022-06-30T11:58:11.465Z"
   },
   {
    "duration": 30,
    "start_time": "2022-06-30T11:58:11.486Z"
   },
   {
    "duration": 19,
    "start_time": "2022-06-30T11:58:11.518Z"
   },
   {
    "duration": 59,
    "start_time": "2022-06-30T11:58:11.539Z"
   },
   {
    "duration": 9,
    "start_time": "2022-06-30T11:59:19.562Z"
   },
   {
    "duration": 17,
    "start_time": "2022-06-30T12:00:19.247Z"
   },
   {
    "duration": 113,
    "start_time": "2022-06-30T12:07:59.458Z"
   },
   {
    "duration": 21,
    "start_time": "2022-06-30T12:08:03.313Z"
   },
   {
    "duration": 321,
    "start_time": "2022-06-30T12:08:06.417Z"
   },
   {
    "duration": 152,
    "start_time": "2022-06-30T12:08:49.764Z"
   },
   {
    "duration": 411,
    "start_time": "2022-06-30T12:09:16.184Z"
   },
   {
    "duration": 298,
    "start_time": "2022-06-30T12:09:44.756Z"
   },
   {
    "duration": 523,
    "start_time": "2022-06-30T12:09:58.252Z"
   },
   {
    "duration": 162,
    "start_time": "2022-06-30T12:14:36.648Z"
   },
   {
    "duration": 514,
    "start_time": "2022-06-30T12:14:55.012Z"
   },
   {
    "duration": 169,
    "start_time": "2022-06-30T12:15:02.692Z"
   },
   {
    "duration": 295,
    "start_time": "2022-06-30T12:15:12.416Z"
   },
   {
    "duration": 331,
    "start_time": "2022-06-30T12:37:00.459Z"
   },
   {
    "duration": 251,
    "start_time": "2022-06-30T12:37:16.192Z"
   },
   {
    "duration": 2362,
    "start_time": "2022-06-30T12:38:01.610Z"
   },
   {
    "duration": 2610,
    "start_time": "2022-06-30T12:39:59.764Z"
   },
   {
    "duration": 3186,
    "start_time": "2022-06-30T12:40:38.160Z"
   },
   {
    "duration": 12,
    "start_time": "2022-06-30T12:45:41.555Z"
   },
   {
    "duration": 15,
    "start_time": "2022-06-30T12:45:46.739Z"
   },
   {
    "duration": 171,
    "start_time": "2022-06-30T12:45:47.638Z"
   },
   {
    "duration": 334,
    "start_time": "2022-06-30T12:46:12.183Z"
   },
   {
    "duration": 21,
    "start_time": "2022-06-30T12:47:26.251Z"
   },
   {
    "duration": 220,
    "start_time": "2022-06-30T12:47:52.482Z"
   },
   {
    "duration": 227,
    "start_time": "2022-06-30T12:48:10.835Z"
   },
   {
    "duration": 22,
    "start_time": "2022-06-30T12:49:19.372Z"
   },
   {
    "duration": 23,
    "start_time": "2022-06-30T12:50:39.942Z"
   },
   {
    "duration": 2982,
    "start_time": "2022-06-30T12:51:07.504Z"
   },
   {
    "duration": 2421,
    "start_time": "2022-06-30T12:54:42.483Z"
   },
   {
    "duration": 202,
    "start_time": "2022-06-30T12:56:31.291Z"
   },
   {
    "duration": 204,
    "start_time": "2022-06-30T12:56:44.133Z"
   },
   {
    "duration": 19,
    "start_time": "2022-06-30T12:58:30.734Z"
   },
   {
    "duration": 20,
    "start_time": "2022-06-30T13:00:01.822Z"
   },
   {
    "duration": 344,
    "start_time": "2022-06-30T13:00:14.692Z"
   },
   {
    "duration": 234,
    "start_time": "2022-06-30T13:02:54.467Z"
   },
   {
    "duration": 2347,
    "start_time": "2022-06-30T13:03:09.414Z"
   },
   {
    "duration": 2427,
    "start_time": "2022-06-30T13:05:24.328Z"
   },
   {
    "duration": 2558,
    "start_time": "2022-06-30T13:05:42.732Z"
   },
   {
    "duration": 2051,
    "start_time": "2022-06-30T13:07:19.933Z"
   },
   {
    "duration": 1877,
    "start_time": "2022-06-30T13:07:41.700Z"
   },
   {
    "duration": 145,
    "start_time": "2022-06-30T13:08:40.163Z"
   },
   {
    "duration": 56,
    "start_time": "2022-06-30T13:10:55.604Z"
   },
   {
    "duration": 3012,
    "start_time": "2022-06-30T13:11:00.333Z"
   },
   {
    "duration": 169,
    "start_time": "2022-06-30T13:12:30.750Z"
   },
   {
    "duration": 3036,
    "start_time": "2022-06-30T13:12:47.192Z"
   },
   {
    "duration": 3051,
    "start_time": "2022-06-30T13:13:50.749Z"
   },
   {
    "duration": 2610,
    "start_time": "2022-06-30T13:14:09.583Z"
   },
   {
    "duration": 213,
    "start_time": "2022-06-30T13:14:23.786Z"
   },
   {
    "duration": 2609,
    "start_time": "2022-06-30T13:14:50.536Z"
   },
   {
    "duration": 52,
    "start_time": "2022-06-30T13:15:09.596Z"
   },
   {
    "duration": 2644,
    "start_time": "2022-06-30T13:15:13.880Z"
   },
   {
    "duration": 2636,
    "start_time": "2022-06-30T13:15:56.810Z"
   },
   {
    "duration": 2569,
    "start_time": "2022-06-30T13:16:47.783Z"
   },
   {
    "duration": 2275,
    "start_time": "2022-06-30T13:17:34.473Z"
   },
   {
    "duration": 178,
    "start_time": "2022-06-30T13:17:46.359Z"
   },
   {
    "duration": 2533,
    "start_time": "2022-06-30T13:18:12.884Z"
   },
   {
    "duration": 55,
    "start_time": "2022-06-30T13:18:31.678Z"
   },
   {
    "duration": 2099,
    "start_time": "2022-06-30T13:18:36.762Z"
   },
   {
    "duration": 2625,
    "start_time": "2022-06-30T13:19:05.254Z"
   },
   {
    "duration": 149,
    "start_time": "2022-06-30T13:22:56.482Z"
   },
   {
    "duration": 2630,
    "start_time": "2022-06-30T13:23:49.503Z"
   },
   {
    "duration": 228,
    "start_time": "2022-06-30T13:28:24.775Z"
   },
   {
    "duration": 2975,
    "start_time": "2022-06-30T13:28:39.908Z"
   },
   {
    "duration": 341,
    "start_time": "2022-06-30T13:29:53.110Z"
   },
   {
    "duration": 3263,
    "start_time": "2022-06-30T13:30:23.474Z"
   },
   {
    "duration": 19,
    "start_time": "2022-06-30T13:31:01.659Z"
   },
   {
    "duration": 2758,
    "start_time": "2022-06-30T13:31:13.615Z"
   },
   {
    "duration": 216,
    "start_time": "2022-06-30T13:31:35.343Z"
   },
   {
    "duration": 202,
    "start_time": "2022-06-30T13:31:47.493Z"
   },
   {
    "duration": 3427,
    "start_time": "2022-06-30T13:32:17.252Z"
   },
   {
    "duration": 3348,
    "start_time": "2022-06-30T13:32:50.290Z"
   },
   {
    "duration": 3409,
    "start_time": "2022-06-30T13:33:04.908Z"
   },
   {
    "duration": 3299,
    "start_time": "2022-06-30T13:33:14.714Z"
   },
   {
    "duration": 46,
    "start_time": "2022-06-30T13:33:50.674Z"
   },
   {
    "duration": 3412,
    "start_time": "2022-06-30T13:33:55.910Z"
   },
   {
    "duration": 3358,
    "start_time": "2022-06-30T13:34:27.334Z"
   },
   {
    "duration": 3533,
    "start_time": "2022-06-30T13:34:56.489Z"
   },
   {
    "duration": 3523,
    "start_time": "2022-06-30T13:35:03.193Z"
   },
   {
    "duration": 3339,
    "start_time": "2022-06-30T13:35:28.312Z"
   },
   {
    "duration": 3231,
    "start_time": "2022-06-30T13:35:46.849Z"
   },
   {
    "duration": 3,
    "start_time": "2022-06-30T13:36:21.573Z"
   },
   {
    "duration": 263,
    "start_time": "2022-06-30T13:37:36.641Z"
   },
   {
    "duration": 3428,
    "start_time": "2022-06-30T13:38:08.047Z"
   },
   {
    "duration": 3701,
    "start_time": "2022-06-30T13:39:36.474Z"
   },
   {
    "duration": 3560,
    "start_time": "2022-06-30T13:40:48.335Z"
   },
   {
    "duration": 11,
    "start_time": "2022-06-30T13:44:42.414Z"
   },
   {
    "duration": 4,
    "start_time": "2022-06-30T13:44:52.668Z"
   },
   {
    "duration": 793,
    "start_time": "2022-06-30T13:47:19.440Z"
   },
   {
    "duration": 1378,
    "start_time": "2022-06-30T13:47:31.735Z"
   },
   {
    "duration": 21,
    "start_time": "2022-06-30T13:47:33.115Z"
   },
   {
    "duration": 17,
    "start_time": "2022-06-30T13:47:33.137Z"
   },
   {
    "duration": 13,
    "start_time": "2022-06-30T13:47:33.155Z"
   },
   {
    "duration": 6,
    "start_time": "2022-06-30T13:47:33.170Z"
   },
   {
    "duration": 3,
    "start_time": "2022-06-30T13:47:33.178Z"
   },
   {
    "duration": 25,
    "start_time": "2022-06-30T13:47:33.182Z"
   },
   {
    "duration": 47,
    "start_time": "2022-06-30T13:47:33.225Z"
   },
   {
    "duration": 16,
    "start_time": "2022-06-30T13:47:33.274Z"
   },
   {
    "duration": 9,
    "start_time": "2022-06-30T13:47:33.292Z"
   },
   {
    "duration": 3438,
    "start_time": "2022-06-30T13:47:33.302Z"
   },
   {
    "duration": 119,
    "start_time": "2022-06-30T13:47:36.741Z"
   },
   {
    "duration": 0,
    "start_time": "2022-06-30T13:47:36.862Z"
   },
   {
    "duration": 0,
    "start_time": "2022-06-30T13:47:36.863Z"
   },
   {
    "duration": 87,
    "start_time": "2022-06-30T13:48:14.440Z"
   },
   {
    "duration": 16,
    "start_time": "2022-06-30T13:48:26.777Z"
   },
   {
    "duration": 1657,
    "start_time": "2022-07-01T09:00:39.027Z"
   },
   {
    "duration": 42,
    "start_time": "2022-07-01T09:00:40.687Z"
   },
   {
    "duration": 17,
    "start_time": "2022-07-01T09:00:40.731Z"
   },
   {
    "duration": 14,
    "start_time": "2022-07-01T09:00:40.749Z"
   },
   {
    "duration": 13,
    "start_time": "2022-07-01T09:00:40.765Z"
   },
   {
    "duration": 3,
    "start_time": "2022-07-01T09:00:40.780Z"
   },
   {
    "duration": 15,
    "start_time": "2022-07-01T09:00:40.785Z"
   },
   {
    "duration": 66,
    "start_time": "2022-07-01T09:00:40.801Z"
   },
   {
    "duration": 17,
    "start_time": "2022-07-01T09:00:40.869Z"
   },
   {
    "duration": 9,
    "start_time": "2022-07-01T09:00:40.887Z"
   },
   {
    "duration": 3454,
    "start_time": "2022-07-01T09:00:40.897Z"
   },
   {
    "duration": 126,
    "start_time": "2022-07-01T09:00:44.353Z"
   },
   {
    "duration": 0,
    "start_time": "2022-07-01T09:00:44.481Z"
   },
   {
    "duration": 0,
    "start_time": "2022-07-01T09:00:44.482Z"
   },
   {
    "duration": 116322,
    "start_time": "2022-07-01T09:01:03.605Z"
   },
   {
    "duration": 391,
    "start_time": "2022-07-01T09:05:22.495Z"
   },
   {
    "duration": 363,
    "start_time": "2022-07-01T09:05:58.038Z"
   },
   {
    "duration": 397,
    "start_time": "2022-07-01T09:06:33.073Z"
   },
   {
    "duration": 0,
    "start_time": "2022-07-01T09:17:19.654Z"
   },
   {
    "duration": 9576,
    "start_time": "2022-07-01T09:17:23.327Z"
   },
   {
    "duration": 9881,
    "start_time": "2022-07-01T09:17:37.399Z"
   },
   {
    "duration": 625517,
    "start_time": "2022-07-01T09:17:59.917Z"
   },
   {
    "duration": 11071,
    "start_time": "2022-07-01T09:29:06.581Z"
   },
   {
    "duration": 11,
    "start_time": "2022-07-01T09:31:04.912Z"
   },
   {
    "duration": 17839,
    "start_time": "2022-07-01T09:31:52.390Z"
   },
   {
    "duration": 720,
    "start_time": "2022-07-01T09:32:28.435Z"
   },
   {
    "duration": 744,
    "start_time": "2022-07-01T09:32:55.424Z"
   },
   {
    "duration": 702,
    "start_time": "2022-07-01T09:34:08.266Z"
   },
   {
    "duration": 741,
    "start_time": "2022-07-01T09:34:20.716Z"
   },
   {
    "duration": 746,
    "start_time": "2022-07-01T09:34:30.458Z"
   },
   {
    "duration": 4,
    "start_time": "2022-07-01T09:35:10.016Z"
   },
   {
    "duration": 75,
    "start_time": "2022-07-01T09:35:17.027Z"
   },
   {
    "duration": 751,
    "start_time": "2022-07-01T09:35:28.482Z"
   },
   {
    "duration": 738,
    "start_time": "2022-07-01T09:35:53.971Z"
   },
   {
    "duration": 7918,
    "start_time": "2022-07-01T09:36:55.615Z"
   },
   {
    "duration": 3,
    "start_time": "2022-07-01T09:39:13.403Z"
   },
   {
    "duration": 7672,
    "start_time": "2022-07-01T09:39:54.859Z"
   },
   {
    "duration": 1515,
    "start_time": "2022-07-01T09:40:30.556Z"
   },
   {
    "duration": 8313,
    "start_time": "2022-07-01T09:53:15.894Z"
   },
   {
    "duration": 12288,
    "start_time": "2022-07-01T09:54:31.588Z"
   },
   {
    "duration": 7542,
    "start_time": "2022-07-01T09:55:19.301Z"
   },
   {
    "duration": 8526,
    "start_time": "2022-07-01T09:56:14.157Z"
   },
   {
    "duration": 8598,
    "start_time": "2022-07-01T09:56:23.380Z"
   },
   {
    "duration": 8555,
    "start_time": "2022-07-01T09:56:48.248Z"
   },
   {
    "duration": 8350,
    "start_time": "2022-07-01T09:57:53.842Z"
   },
   {
    "duration": 8684,
    "start_time": "2022-07-01T09:58:04.393Z"
   },
   {
    "duration": 2452,
    "start_time": "2022-07-01T09:58:50.646Z"
   },
   {
    "duration": 944,
    "start_time": "2022-07-01T10:00:26.940Z"
   },
   {
    "duration": 9808,
    "start_time": "2022-07-01T10:01:17.786Z"
   },
   {
    "duration": 1931,
    "start_time": "2022-07-01T10:09:48.461Z"
   },
   {
    "duration": 11,
    "start_time": "2022-07-01T10:16:01.660Z"
   },
   {
    "duration": 4,
    "start_time": "2022-07-01T10:16:05.168Z"
   },
   {
    "duration": 4381,
    "start_time": "2022-07-01T10:16:06.100Z"
   },
   {
    "duration": 5211,
    "start_time": "2022-07-01T10:16:54.183Z"
   },
   {
    "duration": 1497,
    "start_time": "2022-07-01T10:23:23.861Z"
   },
   {
    "duration": 18,
    "start_time": "2022-07-01T10:24:04.381Z"
   },
   {
    "duration": 1562,
    "start_time": "2022-07-01T10:26:10.307Z"
   },
   {
    "duration": 1484,
    "start_time": "2022-07-01T10:56:27.243Z"
   },
   {
    "duration": 4595,
    "start_time": "2022-07-01T11:02:40.749Z"
   },
   {
    "duration": 4291,
    "start_time": "2022-07-01T11:03:09.492Z"
   },
   {
    "duration": 3897,
    "start_time": "2022-07-01T11:03:29.050Z"
   },
   {
    "duration": 1759,
    "start_time": "2022-07-01T11:06:13.738Z"
   },
   {
    "duration": 1580,
    "start_time": "2022-07-01T11:07:17.705Z"
   },
   {
    "duration": 7,
    "start_time": "2022-07-01T11:11:10.898Z"
   },
   {
    "duration": 13,
    "start_time": "2022-07-01T11:21:51.787Z"
   },
   {
    "duration": 1394,
    "start_time": "2022-07-01T11:23:21.382Z"
   },
   {
    "duration": 21,
    "start_time": "2022-07-01T11:23:22.779Z"
   },
   {
    "duration": 18,
    "start_time": "2022-07-01T11:23:22.801Z"
   },
   {
    "duration": 25,
    "start_time": "2022-07-01T11:23:22.821Z"
   },
   {
    "duration": 15,
    "start_time": "2022-07-01T11:23:22.849Z"
   },
   {
    "duration": 6,
    "start_time": "2022-07-01T11:23:22.865Z"
   },
   {
    "duration": 15,
    "start_time": "2022-07-01T11:23:22.872Z"
   },
   {
    "duration": 75,
    "start_time": "2022-07-01T11:23:22.889Z"
   },
   {
    "duration": 17,
    "start_time": "2022-07-01T11:23:22.966Z"
   },
   {
    "duration": 3,
    "start_time": "2022-07-01T11:23:22.985Z"
   },
   {
    "duration": 4093,
    "start_time": "2022-07-01T11:23:22.990Z"
   },
   {
    "duration": 4868,
    "start_time": "2022-07-01T11:23:27.085Z"
   },
   {
    "duration": 1592,
    "start_time": "2022-07-01T11:23:31.955Z"
   },
   {
    "duration": 9,
    "start_time": "2022-07-01T11:23:33.549Z"
   },
   {
    "duration": 30,
    "start_time": "2022-07-01T11:23:33.561Z"
   },
   {
    "duration": 243,
    "start_time": "2022-07-01T11:23:33.593Z"
   },
   {
    "duration": 3,
    "start_time": "2022-07-01T11:25:04.585Z"
   },
   {
    "duration": 10,
    "start_time": "2022-07-01T11:25:12.684Z"
   },
   {
    "duration": 3,
    "start_time": "2022-07-01T11:31:09.510Z"
   },
   {
    "duration": 13,
    "start_time": "2022-07-01T11:31:24.366Z"
   },
   {
    "duration": 27,
    "start_time": "2022-07-01T11:32:22.096Z"
   },
   {
    "duration": 2,
    "start_time": "2022-07-01T11:32:23.499Z"
   },
   {
    "duration": 10,
    "start_time": "2022-07-01T11:32:24.001Z"
   },
   {
    "duration": 27,
    "start_time": "2022-07-01T11:34:46.989Z"
   },
   {
    "duration": 3,
    "start_time": "2022-07-01T11:37:07.105Z"
   },
   {
    "duration": 5,
    "start_time": "2022-07-01T11:38:05.943Z"
   },
   {
    "duration": 384,
    "start_time": "2022-07-01T11:38:23.791Z"
   },
   {
    "duration": 10,
    "start_time": "2022-07-01T11:38:36.316Z"
   },
   {
    "duration": 4,
    "start_time": "2022-07-01T11:57:29.874Z"
   },
   {
    "duration": 10,
    "start_time": "2022-07-01T11:58:33.771Z"
   },
   {
    "duration": 94306,
    "start_time": "2022-07-01T12:00:57.436Z"
   },
   {
    "duration": 94859,
    "start_time": "2022-07-01T12:04:00.083Z"
   },
   {
    "duration": 93464,
    "start_time": "2022-07-01T12:11:01.632Z"
   },
   {
    "duration": 95337,
    "start_time": "2022-07-01T12:12:53.303Z"
   },
   {
    "duration": 33,
    "start_time": "2022-07-01T12:23:25.773Z"
   },
   {
    "duration": 17,
    "start_time": "2022-07-01T12:23:31.613Z"
   },
   {
    "duration": 1100,
    "start_time": "2022-07-01T12:23:39.641Z"
   },
   {
    "duration": 4,
    "start_time": "2022-07-01T12:25:06.071Z"
   },
   {
    "duration": 23,
    "start_time": "2022-07-01T12:25:28.774Z"
   },
   {
    "duration": 12,
    "start_time": "2022-07-01T12:25:50.263Z"
   },
   {
    "duration": 16,
    "start_time": "2022-07-01T12:26:30.144Z"
   },
   {
    "duration": 7,
    "start_time": "2022-07-01T12:26:50.823Z"
   },
   {
    "duration": 19,
    "start_time": "2022-07-01T12:26:59.528Z"
   },
   {
    "duration": 10,
    "start_time": "2022-07-01T12:27:15.396Z"
   },
   {
    "duration": 94735,
    "start_time": "2022-07-01T12:31:07.892Z"
   },
   {
    "duration": 12,
    "start_time": "2022-07-01T12:34:06.067Z"
   },
   {
    "duration": 5,
    "start_time": "2022-07-01T12:34:54.094Z"
   },
   {
    "duration": 1535,
    "start_time": "2022-07-05T14:24:47.266Z"
   },
   {
    "duration": 44,
    "start_time": "2022-07-05T14:24:48.804Z"
   },
   {
    "duration": 19,
    "start_time": "2022-07-05T14:24:48.850Z"
   },
   {
    "duration": 13,
    "start_time": "2022-07-05T14:24:48.871Z"
   },
   {
    "duration": 9,
    "start_time": "2022-07-05T14:24:48.887Z"
   },
   {
    "duration": 4,
    "start_time": "2022-07-05T14:24:48.898Z"
   },
   {
    "duration": 48,
    "start_time": "2022-07-05T14:24:48.904Z"
   },
   {
    "duration": 54,
    "start_time": "2022-07-05T14:24:48.954Z"
   },
   {
    "duration": 32,
    "start_time": "2022-07-05T14:24:49.011Z"
   },
   {
    "duration": 3,
    "start_time": "2022-07-05T14:24:49.046Z"
   },
   {
    "duration": 4118,
    "start_time": "2022-07-05T14:24:49.051Z"
   },
   {
    "duration": 4731,
    "start_time": "2022-07-05T14:24:53.171Z"
   },
   {
    "duration": 1494,
    "start_time": "2022-07-05T14:24:57.903Z"
   },
   {
    "duration": 7,
    "start_time": "2022-07-05T14:24:59.398Z"
   },
   {
    "duration": 9,
    "start_time": "2022-07-05T14:24:59.407Z"
   },
   {
    "duration": 30,
    "start_time": "2022-07-05T14:24:59.418Z"
   },
   {
    "duration": 3,
    "start_time": "2022-07-05T14:24:59.450Z"
   },
   {
    "duration": 199,
    "start_time": "2022-07-05T14:24:59.455Z"
   },
   {
    "duration": 117,
    "start_time": "2022-07-05T14:24:59.656Z"
   },
   {
    "duration": 0,
    "start_time": "2022-07-05T14:24:59.775Z"
   },
   {
    "duration": 0,
    "start_time": "2022-07-05T14:24:59.777Z"
   },
   {
    "duration": 0,
    "start_time": "2022-07-05T14:24:59.778Z"
   },
   {
    "duration": 0,
    "start_time": "2022-07-05T14:24:59.780Z"
   },
   {
    "duration": 0,
    "start_time": "2022-07-05T14:24:59.781Z"
   },
   {
    "duration": 0,
    "start_time": "2022-07-05T14:24:59.783Z"
   },
   {
    "duration": 0,
    "start_time": "2022-07-05T14:24:59.784Z"
   },
   {
    "duration": 0,
    "start_time": "2022-07-05T14:24:59.785Z"
   },
   {
    "duration": 1372,
    "start_time": "2022-07-05T15:12:04.452Z"
   },
   {
    "duration": 23,
    "start_time": "2022-07-05T15:12:05.825Z"
   },
   {
    "duration": 18,
    "start_time": "2022-07-05T15:12:05.850Z"
   },
   {
    "duration": 42,
    "start_time": "2022-07-05T15:12:05.870Z"
   },
   {
    "duration": 10,
    "start_time": "2022-07-05T15:12:05.913Z"
   },
   {
    "duration": 24,
    "start_time": "2022-07-05T15:12:05.924Z"
   },
   {
    "duration": 25,
    "start_time": "2022-07-05T15:12:05.950Z"
   },
   {
    "duration": 7,
    "start_time": "2022-07-05T15:12:05.977Z"
   },
   {
    "duration": 40,
    "start_time": "2022-07-05T15:12:05.985Z"
   },
   {
    "duration": 28,
    "start_time": "2022-07-05T15:12:06.027Z"
   },
   {
    "duration": 3,
    "start_time": "2022-07-05T15:12:06.057Z"
   },
   {
    "duration": 3851,
    "start_time": "2022-07-05T15:12:06.061Z"
   },
   {
    "duration": 4762,
    "start_time": "2022-07-05T15:12:09.914Z"
   },
   {
    "duration": 1355,
    "start_time": "2022-07-05T15:12:14.678Z"
   },
   {
    "duration": 6,
    "start_time": "2022-07-05T15:12:16.035Z"
   },
   {
    "duration": 18,
    "start_time": "2022-07-05T15:12:16.046Z"
   },
   {
    "duration": 85,
    "start_time": "2022-07-05T15:12:16.066Z"
   },
   {
    "duration": 6,
    "start_time": "2022-07-05T15:12:16.153Z"
   },
   {
    "duration": 108,
    "start_time": "2022-07-05T15:12:16.161Z"
   },
   {
    "duration": 127,
    "start_time": "2022-07-05T15:12:16.271Z"
   },
   {
    "duration": 0,
    "start_time": "2022-07-05T15:12:16.399Z"
   },
   {
    "duration": 0,
    "start_time": "2022-07-05T15:12:16.400Z"
   },
   {
    "duration": 0,
    "start_time": "2022-07-05T15:12:16.401Z"
   },
   {
    "duration": 0,
    "start_time": "2022-07-05T15:12:16.402Z"
   },
   {
    "duration": 0,
    "start_time": "2022-07-05T15:12:16.403Z"
   },
   {
    "duration": 0,
    "start_time": "2022-07-05T15:12:16.405Z"
   },
   {
    "duration": 0,
    "start_time": "2022-07-05T15:12:16.406Z"
   },
   {
    "duration": 0,
    "start_time": "2022-07-05T15:12:16.406Z"
   },
   {
    "duration": 3861,
    "start_time": "2022-07-05T15:44:16.017Z"
   },
   {
    "duration": 1731,
    "start_time": "2022-07-05T15:49:32.257Z"
   },
   {
    "duration": 1632,
    "start_time": "2022-07-05T15:50:01.553Z"
   },
   {
    "duration": 928,
    "start_time": "2022-07-05T15:50:24.408Z"
   },
   {
    "duration": 1777,
    "start_time": "2022-07-05T15:51:04.027Z"
   },
   {
    "duration": 1702,
    "start_time": "2022-07-05T15:51:17.040Z"
   },
   {
    "duration": 16,
    "start_time": "2022-07-05T15:52:10.955Z"
   },
   {
    "duration": 1181,
    "start_time": "2022-07-05T15:52:32.834Z"
   },
   {
    "duration": 1785,
    "start_time": "2022-07-05T15:55:23.462Z"
   },
   {
    "duration": 1608,
    "start_time": "2022-07-06T14:04:33.504Z"
   },
   {
    "duration": 58,
    "start_time": "2022-07-06T14:04:35.115Z"
   },
   {
    "duration": 23,
    "start_time": "2022-07-06T14:04:35.174Z"
   },
   {
    "duration": 60,
    "start_time": "2022-07-06T14:04:35.201Z"
   },
   {
    "duration": 23,
    "start_time": "2022-07-06T14:04:35.263Z"
   },
   {
    "duration": 61,
    "start_time": "2022-07-06T14:04:35.289Z"
   },
   {
    "duration": 39,
    "start_time": "2022-07-06T14:04:35.352Z"
   },
   {
    "duration": 72,
    "start_time": "2022-07-06T14:04:35.393Z"
   },
   {
    "duration": 16,
    "start_time": "2022-07-06T14:04:35.467Z"
   },
   {
    "duration": 45,
    "start_time": "2022-07-06T14:04:35.486Z"
   },
   {
    "duration": 51,
    "start_time": "2022-07-06T14:04:35.533Z"
   },
   {
    "duration": 0,
    "start_time": "2022-07-06T14:04:35.586Z"
   },
   {
    "duration": 0,
    "start_time": "2022-07-06T14:04:35.588Z"
   },
   {
    "duration": 0,
    "start_time": "2022-07-06T14:04:35.589Z"
   },
   {
    "duration": 0,
    "start_time": "2022-07-06T14:04:35.590Z"
   },
   {
    "duration": 0,
    "start_time": "2022-07-06T14:04:35.591Z"
   },
   {
    "duration": 0,
    "start_time": "2022-07-06T14:04:35.592Z"
   },
   {
    "duration": 0,
    "start_time": "2022-07-06T14:04:35.594Z"
   },
   {
    "duration": 0,
    "start_time": "2022-07-06T14:04:35.595Z"
   },
   {
    "duration": 0,
    "start_time": "2022-07-06T14:04:35.596Z"
   },
   {
    "duration": 0,
    "start_time": "2022-07-06T14:04:35.597Z"
   },
   {
    "duration": 0,
    "start_time": "2022-07-06T14:04:35.598Z"
   },
   {
    "duration": 0,
    "start_time": "2022-07-06T14:04:35.600Z"
   },
   {
    "duration": 0,
    "start_time": "2022-07-06T14:04:35.601Z"
   },
   {
    "duration": 0,
    "start_time": "2022-07-06T14:04:35.603Z"
   },
   {
    "duration": 0,
    "start_time": "2022-07-06T14:04:35.605Z"
   },
   {
    "duration": 0,
    "start_time": "2022-07-06T14:04:35.607Z"
   },
   {
    "duration": 52,
    "start_time": "2022-07-06T14:04:59.480Z"
   },
   {
    "duration": 447,
    "start_time": "2022-07-06T14:07:23.666Z"
   },
   {
    "duration": 4536,
    "start_time": "2022-07-06T14:08:14.333Z"
   },
   {
    "duration": 3909,
    "start_time": "2022-07-06T14:10:25.685Z"
   },
   {
    "duration": 3875,
    "start_time": "2022-07-06T14:12:21.366Z"
   },
   {
    "duration": 4903,
    "start_time": "2022-07-06T14:14:55.466Z"
   },
   {
    "duration": 1795,
    "start_time": "2022-07-06T14:18:39.598Z"
   },
   {
    "duration": 1449,
    "start_time": "2022-07-06T14:22:02.161Z"
   },
   {
    "duration": 1526,
    "start_time": "2022-07-06T14:23:44.572Z"
   },
   {
    "duration": 1490,
    "start_time": "2022-07-06T14:23:55.771Z"
   },
   {
    "duration": 1655,
    "start_time": "2022-07-06T14:24:17.932Z"
   },
   {
    "duration": 1469,
    "start_time": "2022-07-06T14:29:27.461Z"
   },
   {
    "duration": 1497,
    "start_time": "2022-07-06T14:29:39.611Z"
   },
   {
    "duration": 1681,
    "start_time": "2022-07-06T14:29:53.943Z"
   },
   {
    "duration": 5202,
    "start_time": "2022-07-06T14:30:54.634Z"
   },
   {
    "duration": 1659,
    "start_time": "2022-07-06T16:09:33.765Z"
   },
   {
    "duration": 7971,
    "start_time": "2022-07-06T16:10:57.401Z"
   },
   {
    "duration": 1423,
    "start_time": "2022-07-06T18:02:58.591Z"
   },
   {
    "duration": 24,
    "start_time": "2022-07-06T18:03:00.017Z"
   },
   {
    "duration": 25,
    "start_time": "2022-07-06T18:03:00.042Z"
   },
   {
    "duration": 11,
    "start_time": "2022-07-06T18:03:00.070Z"
   },
   {
    "duration": 6,
    "start_time": "2022-07-06T18:03:00.083Z"
   },
   {
    "duration": 29,
    "start_time": "2022-07-06T18:03:00.090Z"
   },
   {
    "duration": 23,
    "start_time": "2022-07-06T18:03:00.120Z"
   },
   {
    "duration": 49,
    "start_time": "2022-07-06T18:03:00.145Z"
   },
   {
    "duration": 15,
    "start_time": "2022-07-06T18:03:00.196Z"
   },
   {
    "duration": 3,
    "start_time": "2022-07-06T18:03:00.214Z"
   },
   {
    "duration": 4153,
    "start_time": "2022-07-06T18:03:00.219Z"
   },
   {
    "duration": 4751,
    "start_time": "2022-07-06T18:03:04.375Z"
   },
   {
    "duration": 72,
    "start_time": "2022-07-06T18:03:09.128Z"
   },
   {
    "duration": 0,
    "start_time": "2022-07-06T18:03:09.201Z"
   },
   {
    "duration": 0,
    "start_time": "2022-07-06T18:03:09.203Z"
   },
   {
    "duration": 0,
    "start_time": "2022-07-06T18:03:09.204Z"
   },
   {
    "duration": 0,
    "start_time": "2022-07-06T18:03:09.205Z"
   },
   {
    "duration": 0,
    "start_time": "2022-07-06T18:03:09.206Z"
   },
   {
    "duration": 0,
    "start_time": "2022-07-06T18:03:09.207Z"
   },
   {
    "duration": 0,
    "start_time": "2022-07-06T18:03:09.223Z"
   },
   {
    "duration": 0,
    "start_time": "2022-07-06T18:03:09.225Z"
   },
   {
    "duration": 0,
    "start_time": "2022-07-06T18:03:09.226Z"
   },
   {
    "duration": 0,
    "start_time": "2022-07-06T18:03:09.227Z"
   },
   {
    "duration": 0,
    "start_time": "2022-07-06T18:03:09.229Z"
   },
   {
    "duration": 0,
    "start_time": "2022-07-06T18:03:09.230Z"
   },
   {
    "duration": 0,
    "start_time": "2022-07-06T18:03:09.231Z"
   },
   {
    "duration": 0,
    "start_time": "2022-07-06T18:03:09.232Z"
   },
   {
    "duration": 0,
    "start_time": "2022-07-06T18:03:09.234Z"
   },
   {
    "duration": 5,
    "start_time": "2022-07-06T18:03:45.617Z"
   },
   {
    "duration": 5,
    "start_time": "2022-07-06T18:04:31.384Z"
   },
   {
    "duration": 6,
    "start_time": "2022-07-06T18:05:17.399Z"
   },
   {
    "duration": 809,
    "start_time": "2022-07-06T18:05:57.536Z"
   },
   {
    "duration": 5,
    "start_time": "2022-07-06T18:06:08.434Z"
   },
   {
    "duration": 5,
    "start_time": "2022-07-06T18:56:44.163Z"
   },
   {
    "duration": 6,
    "start_time": "2022-07-06T18:57:06.080Z"
   },
   {
    "duration": 7,
    "start_time": "2022-07-06T18:57:41.604Z"
   },
   {
    "duration": 5,
    "start_time": "2022-07-06T18:59:08.277Z"
   },
   {
    "duration": 5,
    "start_time": "2022-07-06T18:59:46.789Z"
   },
   {
    "duration": 1485,
    "start_time": "2022-07-06T19:01:49.452Z"
   },
   {
    "duration": 8,
    "start_time": "2022-07-06T19:08:30.253Z"
   },
   {
    "duration": 4,
    "start_time": "2022-07-06T19:08:32.154Z"
   },
   {
    "duration": 27,
    "start_time": "2022-07-06T19:08:35.694Z"
   },
   {
    "duration": 3,
    "start_time": "2022-07-06T19:24:47.053Z"
   },
   {
    "duration": 9,
    "start_time": "2022-07-06T19:30:36.754Z"
   },
   {
    "duration": 72,
    "start_time": "2022-07-06T19:31:17.553Z"
   },
   {
    "duration": 8,
    "start_time": "2022-07-06T19:31:20.047Z"
   },
   {
    "duration": 4,
    "start_time": "2022-07-06T19:32:00.942Z"
   },
   {
    "duration": 45,
    "start_time": "2022-07-06T19:32:50.912Z"
   },
   {
    "duration": 45,
    "start_time": "2022-07-06T19:32:57.815Z"
   },
   {
    "duration": 4,
    "start_time": "2022-07-06T19:33:45.762Z"
   },
   {
    "duration": 11,
    "start_time": "2022-07-06T19:34:50.618Z"
   },
   {
    "duration": 341,
    "start_time": "2022-07-06T19:35:15.406Z"
   },
   {
    "duration": 6,
    "start_time": "2022-07-06T19:35:19.379Z"
   },
   {
    "duration": 26,
    "start_time": "2022-07-06T19:36:38.592Z"
   },
   {
    "duration": 8,
    "start_time": "2022-07-06T19:36:39.368Z"
   },
   {
    "duration": 3,
    "start_time": "2022-07-06T19:36:41.252Z"
   },
   {
    "duration": 10,
    "start_time": "2022-07-06T19:36:42.021Z"
   },
   {
    "duration": 4,
    "start_time": "2022-07-06T19:37:22.084Z"
   },
   {
    "duration": 28,
    "start_time": "2022-07-06T19:37:23.752Z"
   },
   {
    "duration": 8,
    "start_time": "2022-07-06T19:37:24.843Z"
   },
   {
    "duration": 4,
    "start_time": "2022-07-06T19:38:04.681Z"
   },
   {
    "duration": 27,
    "start_time": "2022-07-06T19:38:06.059Z"
   },
   {
    "duration": 7,
    "start_time": "2022-07-06T19:38:06.755Z"
   },
   {
    "duration": 8,
    "start_time": "2022-07-06T19:39:18.564Z"
   },
   {
    "duration": 7,
    "start_time": "2022-07-06T19:42:28.614Z"
   },
   {
    "duration": 94,
    "start_time": "2022-07-06T19:47:34.134Z"
   },
   {
    "duration": 7,
    "start_time": "2022-07-06T19:47:35.303Z"
   },
   {
    "duration": 2,
    "start_time": "2022-07-06T19:47:36.425Z"
   },
   {
    "duration": 7,
    "start_time": "2022-07-06T19:47:37.622Z"
   },
   {
    "duration": 7,
    "start_time": "2022-07-06T20:01:10.109Z"
   },
   {
    "duration": 86852,
    "start_time": "2022-07-06T20:02:28.919Z"
   },
   {
    "duration": 1367,
    "start_time": "2022-07-06T20:04:34.057Z"
   },
   {
    "duration": 15,
    "start_time": "2022-07-06T20:05:30.794Z"
   },
   {
    "duration": 180,
    "start_time": "2022-07-06T20:06:47.954Z"
   },
   {
    "duration": 7,
    "start_time": "2022-07-06T20:06:48.904Z"
   },
   {
    "duration": 269,
    "start_time": "2022-07-06T20:07:12.254Z"
   },
   {
    "duration": 7,
    "start_time": "2022-07-06T20:07:13.782Z"
   },
   {
    "duration": 8,
    "start_time": "2022-07-06T20:11:31.014Z"
   },
   {
    "duration": 109648,
    "start_time": "2022-07-06T20:11:31.962Z"
   },
   {
    "duration": 1439,
    "start_time": "2022-07-06T20:13:32.585Z"
   },
   {
    "duration": 4,
    "start_time": "2022-07-06T20:13:36.409Z"
   },
   {
    "duration": 27,
    "start_time": "2022-07-06T20:14:06.964Z"
   },
   {
    "duration": 3,
    "start_time": "2022-07-06T20:20:02.795Z"
   },
   {
    "duration": 35439,
    "start_time": "2022-07-06T20:20:03.574Z"
   },
   {
    "duration": 48,
    "start_time": "2022-07-07T16:54:24.097Z"
   },
   {
    "duration": 1584,
    "start_time": "2022-07-07T16:54:31.533Z"
   },
   {
    "duration": 47,
    "start_time": "2022-07-07T16:54:33.119Z"
   },
   {
    "duration": 21,
    "start_time": "2022-07-07T16:54:33.168Z"
   },
   {
    "duration": 47,
    "start_time": "2022-07-07T16:54:33.191Z"
   },
   {
    "duration": 12,
    "start_time": "2022-07-07T16:54:33.241Z"
   },
   {
    "duration": 37,
    "start_time": "2022-07-07T16:54:33.255Z"
   },
   {
    "duration": 9,
    "start_time": "2022-07-07T16:54:33.294Z"
   },
   {
    "duration": 46,
    "start_time": "2022-07-07T16:54:33.305Z"
   },
   {
    "duration": 17,
    "start_time": "2022-07-07T16:54:33.353Z"
   },
   {
    "duration": 4,
    "start_time": "2022-07-07T16:54:33.372Z"
   },
   {
    "duration": 3805,
    "start_time": "2022-07-07T16:54:33.377Z"
   },
   {
    "duration": 4494,
    "start_time": "2022-07-07T16:54:37.184Z"
   },
   {
    "duration": 5,
    "start_time": "2022-07-07T16:54:41.679Z"
   },
   {
    "duration": 20,
    "start_time": "2022-07-07T16:54:41.687Z"
   },
   {
    "duration": 11,
    "start_time": "2022-07-07T16:54:41.709Z"
   },
   {
    "duration": 1433,
    "start_time": "2022-07-07T16:54:41.721Z"
   },
   {
    "duration": 6,
    "start_time": "2022-07-07T16:54:43.156Z"
   },
   {
    "duration": 5,
    "start_time": "2022-07-07T16:54:43.164Z"
   },
   {
    "duration": 53,
    "start_time": "2022-07-07T16:54:43.170Z"
   },
   {
    "duration": 97,
    "start_time": "2022-07-07T16:54:43.226Z"
   },
   {
    "duration": 204,
    "start_time": "2022-07-07T16:54:43.325Z"
   },
   {
    "duration": 0,
    "start_time": "2022-07-07T16:54:43.530Z"
   },
   {
    "duration": 0,
    "start_time": "2022-07-07T16:54:43.532Z"
   },
   {
    "duration": 0,
    "start_time": "2022-07-07T16:54:43.533Z"
   },
   {
    "duration": 0,
    "start_time": "2022-07-07T16:54:43.534Z"
   },
   {
    "duration": 0,
    "start_time": "2022-07-07T16:54:43.536Z"
   },
   {
    "duration": 0,
    "start_time": "2022-07-07T16:54:43.537Z"
   },
   {
    "duration": 0,
    "start_time": "2022-07-07T16:54:43.539Z"
   },
   {
    "duration": 0,
    "start_time": "2022-07-07T16:54:43.540Z"
   },
   {
    "duration": 0,
    "start_time": "2022-07-07T16:54:43.541Z"
   },
   {
    "duration": 0,
    "start_time": "2022-07-07T16:54:43.542Z"
   },
   {
    "duration": 3,
    "start_time": "2022-07-07T16:55:14.740Z"
   },
   {
    "duration": 7,
    "start_time": "2022-07-07T16:55:17.809Z"
   },
   {
    "duration": 254,
    "start_time": "2022-07-07T16:55:46.046Z"
   },
   {
    "duration": 8,
    "start_time": "2022-07-07T16:55:50.492Z"
   },
   {
    "duration": 8,
    "start_time": "2022-07-07T16:55:59.572Z"
   },
   {
    "duration": 110777,
    "start_time": "2022-07-07T16:56:00.483Z"
   },
   {
    "duration": 26,
    "start_time": "2022-07-07T17:43:16.274Z"
   },
   {
    "duration": 7,
    "start_time": "2022-07-07T17:43:17.153Z"
   },
   {
    "duration": 3,
    "start_time": "2022-07-07T17:43:18.497Z"
   },
   {
    "duration": 7,
    "start_time": "2022-07-07T17:43:19.311Z"
   },
   {
    "duration": 28,
    "start_time": "2022-07-07T17:44:25.110Z"
   },
   {
    "duration": 9,
    "start_time": "2022-07-07T17:44:27.814Z"
   },
   {
    "duration": 28,
    "start_time": "2022-07-07T17:44:51.604Z"
   },
   {
    "duration": 11,
    "start_time": "2022-07-07T17:44:54.489Z"
   },
   {
    "duration": 1410,
    "start_time": "2022-07-07T17:45:04.579Z"
   },
   {
    "duration": 22,
    "start_time": "2022-07-07T17:45:05.991Z"
   },
   {
    "duration": 18,
    "start_time": "2022-07-07T17:45:06.015Z"
   },
   {
    "duration": 16,
    "start_time": "2022-07-07T17:45:06.036Z"
   },
   {
    "duration": 3,
    "start_time": "2022-07-07T17:45:06.055Z"
   },
   {
    "duration": 15,
    "start_time": "2022-07-07T17:45:06.059Z"
   },
   {
    "duration": 17,
    "start_time": "2022-07-07T17:45:06.076Z"
   },
   {
    "duration": 54,
    "start_time": "2022-07-07T17:45:06.094Z"
   },
   {
    "duration": 14,
    "start_time": "2022-07-07T17:45:06.150Z"
   },
   {
    "duration": 4,
    "start_time": "2022-07-07T17:45:06.166Z"
   },
   {
    "duration": 3917,
    "start_time": "2022-07-07T17:45:06.171Z"
   },
   {
    "duration": 4660,
    "start_time": "2022-07-07T17:45:10.090Z"
   },
   {
    "duration": 5,
    "start_time": "2022-07-07T17:45:14.751Z"
   },
   {
    "duration": 8,
    "start_time": "2022-07-07T17:45:14.757Z"
   },
   {
    "duration": 8,
    "start_time": "2022-07-07T17:45:14.766Z"
   },
   {
    "duration": 1503,
    "start_time": "2022-07-07T17:45:14.775Z"
   },
   {
    "duration": 7,
    "start_time": "2022-07-07T17:45:16.279Z"
   },
   {
    "duration": 12,
    "start_time": "2022-07-07T17:45:16.288Z"
   },
   {
    "duration": 31,
    "start_time": "2022-07-07T17:45:16.301Z"
   },
   {
    "duration": 92,
    "start_time": "2022-07-07T17:45:16.335Z"
   },
   {
    "duration": 95,
    "start_time": "2022-07-07T17:45:16.428Z"
   },
   {
    "duration": 8,
    "start_time": "2022-07-07T17:45:16.525Z"
   },
   {
    "duration": 281,
    "start_time": "2022-07-07T17:45:16.535Z"
   },
   {
    "duration": 10,
    "start_time": "2022-07-07T17:45:16.818Z"
   },
   {
    "duration": 10,
    "start_time": "2022-07-07T17:45:16.829Z"
   },
   {
    "duration": 109647,
    "start_time": "2022-07-07T17:45:16.840Z"
   },
   {
    "duration": 1634,
    "start_time": "2022-07-07T17:47:06.489Z"
   },
   {
    "duration": 4,
    "start_time": "2022-07-07T17:47:08.127Z"
   },
   {
    "duration": 22,
    "start_time": "2022-07-07T17:47:08.134Z"
   },
   {
    "duration": 4,
    "start_time": "2022-07-07T17:47:08.159Z"
   },
   {
    "duration": 12,
    "start_time": "2022-07-07T17:47:08.165Z"
   },
   {
    "duration": 109,
    "start_time": "2022-07-07T17:50:48.303Z"
   },
   {
    "duration": 1357,
    "start_time": "2022-07-07T17:50:56.703Z"
   },
   {
    "duration": 21,
    "start_time": "2022-07-07T17:50:58.062Z"
   },
   {
    "duration": 17,
    "start_time": "2022-07-07T17:50:58.084Z"
   },
   {
    "duration": 15,
    "start_time": "2022-07-07T17:50:58.103Z"
   },
   {
    "duration": 3,
    "start_time": "2022-07-07T17:50:58.122Z"
   },
   {
    "duration": 21,
    "start_time": "2022-07-07T17:50:58.127Z"
   },
   {
    "duration": 9,
    "start_time": "2022-07-07T17:50:58.150Z"
   },
   {
    "duration": 42,
    "start_time": "2022-07-07T17:50:58.161Z"
   },
   {
    "duration": 25,
    "start_time": "2022-07-07T17:50:58.205Z"
   },
   {
    "duration": 3,
    "start_time": "2022-07-07T17:50:58.233Z"
   },
   {
    "duration": 3780,
    "start_time": "2022-07-07T17:50:58.238Z"
   },
   {
    "duration": 4483,
    "start_time": "2022-07-07T17:51:02.023Z"
   },
   {
    "duration": 5,
    "start_time": "2022-07-07T17:51:06.508Z"
   },
   {
    "duration": 5,
    "start_time": "2022-07-07T17:51:06.522Z"
   },
   {
    "duration": 8,
    "start_time": "2022-07-07T17:51:06.529Z"
   },
   {
    "duration": 1487,
    "start_time": "2022-07-07T17:51:06.539Z"
   },
   {
    "duration": 8,
    "start_time": "2022-07-07T17:51:08.028Z"
   },
   {
    "duration": 18,
    "start_time": "2022-07-07T17:51:08.037Z"
   },
   {
    "duration": 14,
    "start_time": "2022-07-07T17:51:08.057Z"
   },
   {
    "duration": 53,
    "start_time": "2022-07-07T17:51:08.073Z"
   },
   {
    "duration": 200,
    "start_time": "2022-07-07T17:51:08.129Z"
   },
   {
    "duration": 5,
    "start_time": "2022-07-07T17:51:08.331Z"
   },
   {
    "duration": 14,
    "start_time": "2022-07-07T17:51:08.338Z"
   },
   {
    "duration": 132,
    "start_time": "2022-07-07T17:51:08.354Z"
   },
   {
    "duration": 0,
    "start_time": "2022-07-07T17:51:08.489Z"
   },
   {
    "duration": 0,
    "start_time": "2022-07-07T17:51:08.490Z"
   },
   {
    "duration": 0,
    "start_time": "2022-07-07T17:51:08.492Z"
   },
   {
    "duration": 0,
    "start_time": "2022-07-07T17:51:08.493Z"
   },
   {
    "duration": 0,
    "start_time": "2022-07-07T17:51:08.495Z"
   },
   {
    "duration": 0,
    "start_time": "2022-07-07T17:51:08.496Z"
   },
   {
    "duration": 0,
    "start_time": "2022-07-07T17:51:08.497Z"
   },
   {
    "duration": 0,
    "start_time": "2022-07-07T17:51:08.498Z"
   },
   {
    "duration": 0,
    "start_time": "2022-07-07T17:51:08.499Z"
   },
   {
    "duration": 248,
    "start_time": "2022-07-07T17:52:11.610Z"
   },
   {
    "duration": 7,
    "start_time": "2022-07-07T17:52:12.581Z"
   },
   {
    "duration": 251,
    "start_time": "2022-07-07T17:52:39.352Z"
   },
   {
    "duration": 7,
    "start_time": "2022-07-07T17:52:40.257Z"
   },
   {
    "duration": 1451,
    "start_time": "2022-07-07T17:52:51.896Z"
   },
   {
    "duration": 21,
    "start_time": "2022-07-07T17:52:53.349Z"
   },
   {
    "duration": 17,
    "start_time": "2022-07-07T17:52:53.372Z"
   },
   {
    "duration": 16,
    "start_time": "2022-07-07T17:52:53.391Z"
   },
   {
    "duration": 6,
    "start_time": "2022-07-07T17:52:53.409Z"
   },
   {
    "duration": 26,
    "start_time": "2022-07-07T17:52:53.416Z"
   },
   {
    "duration": 8,
    "start_time": "2022-07-07T17:52:53.443Z"
   },
   {
    "duration": 45,
    "start_time": "2022-07-07T17:52:53.453Z"
   },
   {
    "duration": 25,
    "start_time": "2022-07-07T17:52:53.500Z"
   },
   {
    "duration": 3,
    "start_time": "2022-07-07T17:52:53.527Z"
   },
   {
    "duration": 3868,
    "start_time": "2022-07-07T17:52:53.532Z"
   },
   {
    "duration": 4493,
    "start_time": "2022-07-07T17:52:57.401Z"
   },
   {
    "duration": 5,
    "start_time": "2022-07-07T17:53:01.897Z"
   },
   {
    "duration": 20,
    "start_time": "2022-07-07T17:53:01.904Z"
   },
   {
    "duration": 28,
    "start_time": "2022-07-07T17:53:01.926Z"
   },
   {
    "duration": 1530,
    "start_time": "2022-07-07T17:53:01.956Z"
   },
   {
    "duration": 7,
    "start_time": "2022-07-07T17:53:03.487Z"
   },
   {
    "duration": 14,
    "start_time": "2022-07-07T17:53:03.495Z"
   },
   {
    "duration": 16,
    "start_time": "2022-07-07T17:53:03.510Z"
   },
   {
    "duration": 17,
    "start_time": "2022-07-07T17:53:03.528Z"
   },
   {
    "duration": 80,
    "start_time": "2022-07-07T17:53:03.547Z"
   },
   {
    "duration": 98,
    "start_time": "2022-07-07T17:53:03.629Z"
   },
   {
    "duration": 33,
    "start_time": "2022-07-07T17:53:03.729Z"
   },
   {
    "duration": 117,
    "start_time": "2022-07-07T17:53:03.764Z"
   },
   {
    "duration": 0,
    "start_time": "2022-07-07T17:53:03.883Z"
   },
   {
    "duration": 0,
    "start_time": "2022-07-07T17:53:03.884Z"
   },
   {
    "duration": 0,
    "start_time": "2022-07-07T17:53:03.885Z"
   },
   {
    "duration": 0,
    "start_time": "2022-07-07T17:53:03.886Z"
   },
   {
    "duration": 0,
    "start_time": "2022-07-07T17:53:03.888Z"
   },
   {
    "duration": 0,
    "start_time": "2022-07-07T17:53:03.889Z"
   },
   {
    "duration": 0,
    "start_time": "2022-07-07T17:53:03.890Z"
   },
   {
    "duration": 0,
    "start_time": "2022-07-07T17:53:03.891Z"
   },
   {
    "duration": 0,
    "start_time": "2022-07-07T17:53:03.892Z"
   },
   {
    "duration": 266,
    "start_time": "2022-07-07T17:56:14.438Z"
   },
   {
    "duration": 7,
    "start_time": "2022-07-07T17:56:15.469Z"
   },
   {
    "duration": 1436,
    "start_time": "2022-07-07T17:58:26.949Z"
   },
   {
    "duration": 21,
    "start_time": "2022-07-07T17:58:28.387Z"
   },
   {
    "duration": 17,
    "start_time": "2022-07-07T17:58:28.409Z"
   },
   {
    "duration": 11,
    "start_time": "2022-07-07T17:58:28.428Z"
   },
   {
    "duration": 2,
    "start_time": "2022-07-07T17:58:28.441Z"
   },
   {
    "duration": 19,
    "start_time": "2022-07-07T17:58:28.445Z"
   },
   {
    "duration": 9,
    "start_time": "2022-07-07T17:58:28.466Z"
   },
   {
    "duration": 61,
    "start_time": "2022-07-07T17:58:28.477Z"
   },
   {
    "duration": 17,
    "start_time": "2022-07-07T17:58:28.540Z"
   },
   {
    "duration": 4,
    "start_time": "2022-07-07T17:58:28.558Z"
   },
   {
    "duration": 3833,
    "start_time": "2022-07-07T17:58:28.563Z"
   },
   {
    "duration": 4589,
    "start_time": "2022-07-07T17:58:32.399Z"
   },
   {
    "duration": 6,
    "start_time": "2022-07-07T17:58:36.989Z"
   },
   {
    "duration": 9,
    "start_time": "2022-07-07T17:58:36.998Z"
   },
   {
    "duration": 17,
    "start_time": "2022-07-07T17:58:37.008Z"
   },
   {
    "duration": 1398,
    "start_time": "2022-07-07T17:58:37.027Z"
   },
   {
    "duration": 7,
    "start_time": "2022-07-07T17:58:38.427Z"
   },
   {
    "duration": 8,
    "start_time": "2022-07-07T17:58:38.436Z"
   },
   {
    "duration": 13,
    "start_time": "2022-07-07T17:58:38.446Z"
   },
   {
    "duration": 67,
    "start_time": "2022-07-07T17:58:38.460Z"
   },
   {
    "duration": 97,
    "start_time": "2022-07-07T17:58:38.530Z"
   },
   {
    "duration": 13,
    "start_time": "2022-07-07T17:58:38.629Z"
   },
   {
    "duration": 21,
    "start_time": "2022-07-07T17:58:38.644Z"
   },
   {
    "duration": 124,
    "start_time": "2022-07-07T17:58:38.666Z"
   },
   {
    "duration": 0,
    "start_time": "2022-07-07T17:58:38.792Z"
   },
   {
    "duration": 0,
    "start_time": "2022-07-07T17:58:38.793Z"
   },
   {
    "duration": 0,
    "start_time": "2022-07-07T17:58:38.794Z"
   },
   {
    "duration": 0,
    "start_time": "2022-07-07T17:58:38.796Z"
   },
   {
    "duration": 0,
    "start_time": "2022-07-07T17:58:38.797Z"
   },
   {
    "duration": 0,
    "start_time": "2022-07-07T17:58:38.798Z"
   },
   {
    "duration": 0,
    "start_time": "2022-07-07T17:58:38.799Z"
   },
   {
    "duration": 0,
    "start_time": "2022-07-07T17:58:38.800Z"
   },
   {
    "duration": 0,
    "start_time": "2022-07-07T17:58:38.801Z"
   },
   {
    "duration": 26,
    "start_time": "2022-07-07T18:00:01.403Z"
   },
   {
    "duration": 8,
    "start_time": "2022-07-07T18:00:04.786Z"
   },
   {
    "duration": 1385,
    "start_time": "2022-07-07T18:00:32.586Z"
   },
   {
    "duration": 23,
    "start_time": "2022-07-07T18:00:33.978Z"
   },
   {
    "duration": 18,
    "start_time": "2022-07-07T18:00:34.003Z"
   },
   {
    "duration": 15,
    "start_time": "2022-07-07T18:00:34.022Z"
   },
   {
    "duration": 5,
    "start_time": "2022-07-07T18:00:34.040Z"
   },
   {
    "duration": 23,
    "start_time": "2022-07-07T18:00:34.047Z"
   },
   {
    "duration": 8,
    "start_time": "2022-07-07T18:00:34.072Z"
   },
   {
    "duration": 52,
    "start_time": "2022-07-07T18:00:34.081Z"
   },
   {
    "duration": 16,
    "start_time": "2022-07-07T18:00:34.135Z"
   },
   {
    "duration": 4,
    "start_time": "2022-07-07T18:00:34.152Z"
   },
   {
    "duration": 3990,
    "start_time": "2022-07-07T18:00:34.157Z"
   },
   {
    "duration": 4566,
    "start_time": "2022-07-07T18:00:38.149Z"
   },
   {
    "duration": 4,
    "start_time": "2022-07-07T18:00:42.724Z"
   },
   {
    "duration": 20,
    "start_time": "2022-07-07T18:00:42.731Z"
   },
   {
    "duration": 21,
    "start_time": "2022-07-07T18:00:42.752Z"
   },
   {
    "duration": 1468,
    "start_time": "2022-07-07T18:00:42.774Z"
   },
   {
    "duration": 7,
    "start_time": "2022-07-07T18:00:44.243Z"
   },
   {
    "duration": 13,
    "start_time": "2022-07-07T18:00:44.252Z"
   },
   {
    "duration": 13,
    "start_time": "2022-07-07T18:00:44.267Z"
   },
   {
    "duration": 41,
    "start_time": "2022-07-07T18:00:44.282Z"
   },
   {
    "duration": 100,
    "start_time": "2022-07-07T18:00:44.330Z"
   },
   {
    "duration": 12,
    "start_time": "2022-07-07T18:00:44.432Z"
   },
   {
    "duration": 94,
    "start_time": "2022-07-07T18:00:44.447Z"
   },
   {
    "duration": 146,
    "start_time": "2022-07-07T18:00:44.543Z"
   },
   {
    "duration": 0,
    "start_time": "2022-07-07T18:00:44.691Z"
   },
   {
    "duration": 0,
    "start_time": "2022-07-07T18:00:44.693Z"
   },
   {
    "duration": 0,
    "start_time": "2022-07-07T18:00:44.694Z"
   },
   {
    "duration": 0,
    "start_time": "2022-07-07T18:00:44.695Z"
   },
   {
    "duration": 0,
    "start_time": "2022-07-07T18:00:44.696Z"
   },
   {
    "duration": 0,
    "start_time": "2022-07-07T18:00:44.697Z"
   },
   {
    "duration": 0,
    "start_time": "2022-07-07T18:00:44.698Z"
   },
   {
    "duration": 0,
    "start_time": "2022-07-07T18:00:44.700Z"
   },
   {
    "duration": 0,
    "start_time": "2022-07-07T18:00:44.701Z"
   },
   {
    "duration": 28,
    "start_time": "2022-07-07T18:01:43.464Z"
   },
   {
    "duration": 8,
    "start_time": "2022-07-07T18:01:46.124Z"
   },
   {
    "duration": 1450,
    "start_time": "2022-07-07T18:01:52.347Z"
   },
   {
    "duration": 23,
    "start_time": "2022-07-07T18:01:53.798Z"
   },
   {
    "duration": 18,
    "start_time": "2022-07-07T18:01:53.823Z"
   },
   {
    "duration": 13,
    "start_time": "2022-07-07T18:01:53.843Z"
   },
   {
    "duration": 3,
    "start_time": "2022-07-07T18:01:53.858Z"
   },
   {
    "duration": 22,
    "start_time": "2022-07-07T18:01:53.862Z"
   },
   {
    "duration": 14,
    "start_time": "2022-07-07T18:01:53.886Z"
   },
   {
    "duration": 56,
    "start_time": "2022-07-07T18:01:53.902Z"
   },
   {
    "duration": 18,
    "start_time": "2022-07-07T18:01:53.960Z"
   },
   {
    "duration": 3,
    "start_time": "2022-07-07T18:01:53.981Z"
   },
   {
    "duration": 3799,
    "start_time": "2022-07-07T18:01:53.986Z"
   },
   {
    "duration": 4660,
    "start_time": "2022-07-07T18:01:57.787Z"
   },
   {
    "duration": 5,
    "start_time": "2022-07-07T18:02:02.449Z"
   },
   {
    "duration": 33,
    "start_time": "2022-07-07T18:02:02.455Z"
   },
   {
    "duration": 8,
    "start_time": "2022-07-07T18:02:02.490Z"
   },
   {
    "duration": 1490,
    "start_time": "2022-07-07T18:02:02.500Z"
   },
   {
    "duration": 12,
    "start_time": "2022-07-07T18:02:03.992Z"
   },
   {
    "duration": 18,
    "start_time": "2022-07-07T18:02:04.006Z"
   },
   {
    "duration": 21,
    "start_time": "2022-07-07T18:02:04.026Z"
   },
   {
    "duration": 41,
    "start_time": "2022-07-07T18:02:04.049Z"
   },
   {
    "duration": 37,
    "start_time": "2022-07-07T18:02:04.093Z"
   },
   {
    "duration": 100,
    "start_time": "2022-07-07T18:02:04.132Z"
   },
   {
    "duration": 24,
    "start_time": "2022-07-07T18:02:04.234Z"
   },
   {
    "duration": 114,
    "start_time": "2022-07-07T18:02:04.260Z"
   },
   {
    "duration": 0,
    "start_time": "2022-07-07T18:02:04.377Z"
   },
   {
    "duration": 0,
    "start_time": "2022-07-07T18:02:04.379Z"
   },
   {
    "duration": 0,
    "start_time": "2022-07-07T18:02:04.380Z"
   },
   {
    "duration": 0,
    "start_time": "2022-07-07T18:02:04.382Z"
   },
   {
    "duration": 0,
    "start_time": "2022-07-07T18:02:04.383Z"
   },
   {
    "duration": 0,
    "start_time": "2022-07-07T18:02:04.385Z"
   },
   {
    "duration": 0,
    "start_time": "2022-07-07T18:02:04.387Z"
   },
   {
    "duration": 0,
    "start_time": "2022-07-07T18:02:04.388Z"
   },
   {
    "duration": 0,
    "start_time": "2022-07-07T18:02:04.390Z"
   },
   {
    "duration": 270,
    "start_time": "2022-07-07T18:02:22.833Z"
   },
   {
    "duration": 7,
    "start_time": "2022-07-07T18:02:23.800Z"
   },
   {
    "duration": 189,
    "start_time": "2022-07-07T18:04:59.394Z"
   },
   {
    "duration": 8,
    "start_time": "2022-07-07T18:05:01.482Z"
   },
   {
    "duration": 118,
    "start_time": "2022-07-07T18:05:20.758Z"
   },
   {
    "duration": 7,
    "start_time": "2022-07-07T18:05:21.575Z"
   },
   {
    "duration": 10,
    "start_time": "2022-07-07T18:05:47.449Z"
   },
   {
    "duration": 1340,
    "start_time": "2022-07-07T18:05:58.453Z"
   },
   {
    "duration": 22,
    "start_time": "2022-07-07T18:05:59.795Z"
   },
   {
    "duration": 19,
    "start_time": "2022-07-07T18:05:59.818Z"
   },
   {
    "duration": 34,
    "start_time": "2022-07-07T18:05:59.839Z"
   },
   {
    "duration": 8,
    "start_time": "2022-07-07T18:05:59.875Z"
   },
   {
    "duration": 20,
    "start_time": "2022-07-07T18:05:59.884Z"
   },
   {
    "duration": 12,
    "start_time": "2022-07-07T18:05:59.905Z"
   },
   {
    "duration": 42,
    "start_time": "2022-07-07T18:05:59.918Z"
   },
   {
    "duration": 19,
    "start_time": "2022-07-07T18:05:59.962Z"
   },
   {
    "duration": 3,
    "start_time": "2022-07-07T18:05:59.983Z"
   },
   {
    "duration": 3795,
    "start_time": "2022-07-07T18:05:59.988Z"
   },
   {
    "duration": 4667,
    "start_time": "2022-07-07T18:06:03.785Z"
   },
   {
    "duration": 6,
    "start_time": "2022-07-07T18:06:08.453Z"
   },
   {
    "duration": 9,
    "start_time": "2022-07-07T18:06:08.461Z"
   },
   {
    "duration": 9,
    "start_time": "2022-07-07T18:06:08.472Z"
   },
   {
    "duration": 1556,
    "start_time": "2022-07-07T18:06:08.482Z"
   },
   {
    "duration": 7,
    "start_time": "2022-07-07T18:06:10.040Z"
   },
   {
    "duration": 12,
    "start_time": "2022-07-07T18:06:10.049Z"
   },
   {
    "duration": 24,
    "start_time": "2022-07-07T18:06:10.062Z"
   },
   {
    "duration": 37,
    "start_time": "2022-07-07T18:06:10.088Z"
   },
   {
    "duration": 104,
    "start_time": "2022-07-07T18:06:10.127Z"
   },
   {
    "duration": 93,
    "start_time": "2022-07-07T18:06:10.233Z"
   },
   {
    "duration": 9,
    "start_time": "2022-07-07T18:06:10.328Z"
   },
   {
    "duration": 370,
    "start_time": "2022-07-07T18:06:10.339Z"
   },
   {
    "duration": 13,
    "start_time": "2022-07-07T18:06:10.711Z"
   },
   {
    "duration": 113,
    "start_time": "2022-07-07T18:06:10.726Z"
   },
   {
    "duration": 0,
    "start_time": "2022-07-07T18:06:10.841Z"
   },
   {
    "duration": 0,
    "start_time": "2022-07-07T18:06:10.842Z"
   },
   {
    "duration": 0,
    "start_time": "2022-07-07T18:06:10.843Z"
   },
   {
    "duration": 0,
    "start_time": "2022-07-07T18:06:10.844Z"
   },
   {
    "duration": 0,
    "start_time": "2022-07-07T18:06:10.845Z"
   },
   {
    "duration": 0,
    "start_time": "2022-07-07T18:06:10.846Z"
   },
   {
    "duration": 0,
    "start_time": "2022-07-07T18:06:10.847Z"
   },
   {
    "duration": 309,
    "start_time": "2022-07-07T18:07:21.143Z"
   },
   {
    "duration": 7,
    "start_time": "2022-07-07T18:07:22.330Z"
   },
   {
    "duration": 269,
    "start_time": "2022-07-07T18:07:44.979Z"
   },
   {
    "duration": 7,
    "start_time": "2022-07-07T18:07:46.523Z"
   },
   {
    "duration": 1435,
    "start_time": "2022-07-07T18:07:54.041Z"
   },
   {
    "duration": 21,
    "start_time": "2022-07-07T18:07:55.478Z"
   },
   {
    "duration": 20,
    "start_time": "2022-07-07T18:07:55.501Z"
   },
   {
    "duration": 12,
    "start_time": "2022-07-07T18:07:55.523Z"
   },
   {
    "duration": 9,
    "start_time": "2022-07-07T18:07:55.537Z"
   },
   {
    "duration": 21,
    "start_time": "2022-07-07T18:07:55.547Z"
   },
   {
    "duration": 8,
    "start_time": "2022-07-07T18:07:55.570Z"
   },
   {
    "duration": 51,
    "start_time": "2022-07-07T18:07:55.580Z"
   },
   {
    "duration": 17,
    "start_time": "2022-07-07T18:07:55.633Z"
   },
   {
    "duration": 4,
    "start_time": "2022-07-07T18:07:55.651Z"
   },
   {
    "duration": 3824,
    "start_time": "2022-07-07T18:07:55.656Z"
   },
   {
    "duration": 4594,
    "start_time": "2022-07-07T18:07:59.482Z"
   },
   {
    "duration": 5,
    "start_time": "2022-07-07T18:08:04.078Z"
   },
   {
    "duration": 8,
    "start_time": "2022-07-07T18:08:04.086Z"
   },
   {
    "duration": 9,
    "start_time": "2022-07-07T18:08:04.095Z"
   },
   {
    "duration": 1473,
    "start_time": "2022-07-07T18:08:04.105Z"
   },
   {
    "duration": 7,
    "start_time": "2022-07-07T18:08:05.580Z"
   },
   {
    "duration": 14,
    "start_time": "2022-07-07T18:08:05.588Z"
   },
   {
    "duration": 16,
    "start_time": "2022-07-07T18:08:05.604Z"
   },
   {
    "duration": 32,
    "start_time": "2022-07-07T18:08:05.621Z"
   },
   {
    "duration": 99,
    "start_time": "2022-07-07T18:08:05.724Z"
   },
   {
    "duration": 6,
    "start_time": "2022-07-07T18:08:05.825Z"
   },
   {
    "duration": 26,
    "start_time": "2022-07-07T18:08:05.832Z"
   },
   {
    "duration": 269,
    "start_time": "2022-07-07T18:08:05.860Z"
   },
   {
    "duration": 7,
    "start_time": "2022-07-07T18:08:06.131Z"
   },
   {
    "duration": 116,
    "start_time": "2022-07-07T18:08:06.139Z"
   },
   {
    "duration": 0,
    "start_time": "2022-07-07T18:08:06.256Z"
   },
   {
    "duration": 0,
    "start_time": "2022-07-07T18:08:06.258Z"
   },
   {
    "duration": 0,
    "start_time": "2022-07-07T18:08:06.259Z"
   },
   {
    "duration": 0,
    "start_time": "2022-07-07T18:08:06.260Z"
   },
   {
    "duration": 0,
    "start_time": "2022-07-07T18:08:06.261Z"
   },
   {
    "duration": 0,
    "start_time": "2022-07-07T18:08:06.263Z"
   },
   {
    "duration": 0,
    "start_time": "2022-07-07T18:08:06.264Z"
   },
   {
    "duration": 188,
    "start_time": "2022-07-07T18:09:44.114Z"
   },
   {
    "duration": 7,
    "start_time": "2022-07-07T18:09:44.816Z"
   },
   {
    "duration": 8,
    "start_time": "2022-07-07T18:10:16.511Z"
   },
   {
    "duration": 112337,
    "start_time": "2022-07-07T18:10:17.754Z"
   },
   {
    "duration": 32,
    "start_time": "2022-07-07T18:18:36.401Z"
   },
   {
    "duration": 1715,
    "start_time": "2022-07-09T12:03:40.137Z"
   },
   {
    "duration": 47,
    "start_time": "2022-07-09T12:03:41.854Z"
   },
   {
    "duration": 20,
    "start_time": "2022-07-09T12:03:41.902Z"
   },
   {
    "duration": 16,
    "start_time": "2022-07-09T12:03:41.925Z"
   },
   {
    "duration": 5,
    "start_time": "2022-07-09T12:03:41.943Z"
   },
   {
    "duration": 24,
    "start_time": "2022-07-09T12:03:41.950Z"
   },
   {
    "duration": 13,
    "start_time": "2022-07-09T12:03:41.976Z"
   },
   {
    "duration": 71,
    "start_time": "2022-07-09T12:03:41.991Z"
   },
   {
    "duration": 18,
    "start_time": "2022-07-09T12:03:42.063Z"
   },
   {
    "duration": 3,
    "start_time": "2022-07-09T12:03:42.084Z"
   },
   {
    "duration": 4306,
    "start_time": "2022-07-09T12:03:42.089Z"
   },
   {
    "duration": 5200,
    "start_time": "2022-07-09T12:03:46.397Z"
   },
   {
    "duration": 5,
    "start_time": "2022-07-09T12:03:51.599Z"
   },
   {
    "duration": 19,
    "start_time": "2022-07-09T12:03:51.606Z"
   },
   {
    "duration": 19,
    "start_time": "2022-07-09T12:03:51.629Z"
   },
   {
    "duration": 1616,
    "start_time": "2022-07-09T12:03:51.650Z"
   },
   {
    "duration": 8,
    "start_time": "2022-07-09T12:03:53.268Z"
   },
   {
    "duration": 7,
    "start_time": "2022-07-09T12:03:53.278Z"
   },
   {
    "duration": 40,
    "start_time": "2022-07-09T12:03:53.286Z"
   },
   {
    "duration": 98,
    "start_time": "2022-07-09T12:03:53.328Z"
   },
   {
    "duration": 28,
    "start_time": "2022-07-09T12:03:53.429Z"
   },
   {
    "duration": 73,
    "start_time": "2022-07-09T12:03:53.460Z"
   },
   {
    "duration": 442,
    "start_time": "2022-07-09T12:03:53.535Z"
   },
   {
    "duration": 8,
    "start_time": "2022-07-09T12:03:53.978Z"
   },
   {
    "duration": 10,
    "start_time": "2022-07-09T12:03:53.988Z"
   },
   {
    "duration": 152,
    "start_time": "2022-07-09T12:03:54.000Z"
   },
   {
    "duration": 0,
    "start_time": "2022-07-09T12:03:54.154Z"
   },
   {
    "duration": 0,
    "start_time": "2022-07-09T12:03:54.155Z"
   },
   {
    "duration": 0,
    "start_time": "2022-07-09T12:03:54.156Z"
   },
   {
    "duration": 0,
    "start_time": "2022-07-09T12:03:54.157Z"
   },
   {
    "duration": 0,
    "start_time": "2022-07-09T12:03:54.158Z"
   },
   {
    "duration": 0,
    "start_time": "2022-07-09T12:03:54.159Z"
   },
   {
    "duration": 1414,
    "start_time": "2022-07-09T12:05:03.209Z"
   },
   {
    "duration": 3,
    "start_time": "2022-07-09T12:05:08.138Z"
   },
   {
    "duration": 19,
    "start_time": "2022-07-09T12:05:13.267Z"
   },
   {
    "duration": 19,
    "start_time": "2022-07-09T12:13:15.429Z"
   },
   {
    "duration": 9206,
    "start_time": "2022-07-09T12:14:32.957Z"
   },
   {
    "duration": 4544,
    "start_time": "2022-07-09T12:16:26.792Z"
   },
   {
    "duration": 7364,
    "start_time": "2022-07-09T12:17:04.450Z"
   },
   {
    "duration": 7403,
    "start_time": "2022-07-09T12:18:54.240Z"
   },
   {
    "duration": 27,
    "start_time": "2022-07-09T12:20:50.969Z"
   },
   {
    "duration": 7034,
    "start_time": "2022-07-09T12:21:57.572Z"
   },
   {
    "duration": 25,
    "start_time": "2022-07-09T12:22:12.621Z"
   },
   {
    "duration": 7303,
    "start_time": "2022-07-09T12:22:24.253Z"
   },
   {
    "duration": 7080,
    "start_time": "2022-07-09T12:22:43.562Z"
   },
   {
    "duration": 34,
    "start_time": "2022-07-09T12:23:07.626Z"
   },
   {
    "duration": 7233,
    "start_time": "2022-07-09T12:23:54.435Z"
   },
   {
    "duration": 7273,
    "start_time": "2022-07-09T12:24:49.781Z"
   },
   {
    "duration": 7354,
    "start_time": "2022-07-09T12:25:30.458Z"
   },
   {
    "duration": 6958,
    "start_time": "2022-07-09T12:25:49.810Z"
   },
   {
    "duration": 7195,
    "start_time": "2022-07-09T12:26:29.442Z"
   },
   {
    "duration": 6947,
    "start_time": "2022-07-09T12:26:44.986Z"
   },
   {
    "duration": 7193,
    "start_time": "2022-07-09T12:27:48.679Z"
   },
   {
    "duration": 7275,
    "start_time": "2022-07-09T12:30:34.617Z"
   },
   {
    "duration": 5801,
    "start_time": "2022-07-09T12:30:55.487Z"
   },
   {
    "duration": 5699,
    "start_time": "2022-07-09T12:31:15.999Z"
   },
   {
    "duration": 7930,
    "start_time": "2022-07-09T12:35:52.121Z"
   },
   {
    "duration": 5,
    "start_time": "2022-07-09T12:52:47.461Z"
   },
   {
    "duration": 5,
    "start_time": "2022-07-09T13:10:00.459Z"
   },
   {
    "duration": 5,
    "start_time": "2022-07-09T13:10:51.554Z"
   },
   {
    "duration": 5,
    "start_time": "2022-07-09T13:11:16.822Z"
   },
   {
    "duration": 12,
    "start_time": "2022-07-09T13:29:59.142Z"
   },
   {
    "duration": 7,
    "start_time": "2022-07-09T13:32:39.855Z"
   },
   {
    "duration": 6,
    "start_time": "2022-07-09T13:34:17.612Z"
   },
   {
    "duration": 7,
    "start_time": "2022-07-09T13:50:32.102Z"
   },
   {
    "duration": 4927,
    "start_time": "2022-07-09T13:50:34.341Z"
   },
   {
    "duration": 6858,
    "start_time": "2022-07-09T13:56:08.520Z"
   },
   {
    "duration": 12,
    "start_time": "2022-07-09T14:02:43.258Z"
   },
   {
    "duration": 12,
    "start_time": "2022-07-09T14:15:21.543Z"
   },
   {
    "duration": 117946,
    "start_time": "2022-07-09T14:15:55.194Z"
   },
   {
    "duration": 804,
    "start_time": "2022-07-09T18:32:30.041Z"
   },
   {
    "duration": 4,
    "start_time": "2022-07-09T18:32:53.867Z"
   },
   {
    "duration": 19,
    "start_time": "2022-07-09T18:33:33.700Z"
   },
   {
    "duration": 1550,
    "start_time": "2022-07-11T12:07:17.841Z"
   },
   {
    "duration": 46,
    "start_time": "2022-07-11T12:07:19.393Z"
   },
   {
    "duration": 19,
    "start_time": "2022-07-11T12:07:19.441Z"
   },
   {
    "duration": 11,
    "start_time": "2022-07-11T12:07:19.462Z"
   },
   {
    "duration": 3,
    "start_time": "2022-07-11T12:07:19.476Z"
   },
   {
    "duration": 28,
    "start_time": "2022-07-11T12:07:19.481Z"
   },
   {
    "duration": 9,
    "start_time": "2022-07-11T12:07:19.510Z"
   },
   {
    "duration": 62,
    "start_time": "2022-07-11T12:07:19.521Z"
   },
   {
    "duration": 21,
    "start_time": "2022-07-11T12:07:19.584Z"
   },
   {
    "duration": 4,
    "start_time": "2022-07-11T12:07:19.607Z"
   },
   {
    "duration": 3783,
    "start_time": "2022-07-11T12:07:19.612Z"
   },
   {
    "duration": 4737,
    "start_time": "2022-07-11T12:07:23.397Z"
   },
   {
    "duration": 4,
    "start_time": "2022-07-11T12:07:28.136Z"
   },
   {
    "duration": 7,
    "start_time": "2022-07-11T12:07:28.143Z"
   },
   {
    "duration": 17,
    "start_time": "2022-07-11T12:07:28.160Z"
   },
   {
    "duration": 6,
    "start_time": "2022-07-11T12:07:28.178Z"
   },
   {
    "duration": 118,
    "start_time": "2022-07-11T12:07:28.185Z"
   },
   {
    "duration": 0,
    "start_time": "2022-07-11T12:07:28.305Z"
   },
   {
    "duration": 0,
    "start_time": "2022-07-11T12:07:28.306Z"
   },
   {
    "duration": 0,
    "start_time": "2022-07-11T12:07:28.307Z"
   },
   {
    "duration": 0,
    "start_time": "2022-07-11T12:07:28.309Z"
   },
   {
    "duration": 0,
    "start_time": "2022-07-11T12:07:28.310Z"
   },
   {
    "duration": 0,
    "start_time": "2022-07-11T12:07:28.311Z"
   },
   {
    "duration": 0,
    "start_time": "2022-07-11T12:07:28.312Z"
   },
   {
    "duration": 0,
    "start_time": "2022-07-11T12:07:28.313Z"
   },
   {
    "duration": 0,
    "start_time": "2022-07-11T12:07:28.314Z"
   },
   {
    "duration": 0,
    "start_time": "2022-07-11T12:07:28.316Z"
   },
   {
    "duration": 0,
    "start_time": "2022-07-11T12:07:28.317Z"
   },
   {
    "duration": 0,
    "start_time": "2022-07-11T12:07:28.318Z"
   },
   {
    "duration": 0,
    "start_time": "2022-07-11T12:07:28.318Z"
   },
   {
    "duration": 0,
    "start_time": "2022-07-11T12:07:28.319Z"
   },
   {
    "duration": 0,
    "start_time": "2022-07-11T12:07:28.320Z"
   },
   {
    "duration": 0,
    "start_time": "2022-07-11T12:07:28.322Z"
   },
   {
    "duration": 0,
    "start_time": "2022-07-11T12:07:28.323Z"
   },
   {
    "duration": 0,
    "start_time": "2022-07-11T12:07:28.323Z"
   },
   {
    "duration": 0,
    "start_time": "2022-07-11T12:07:28.324Z"
   },
   {
    "duration": 0,
    "start_time": "2022-07-11T12:07:28.364Z"
   },
   {
    "duration": 6,
    "start_time": "2022-07-11T12:09:47.465Z"
   },
   {
    "duration": 5,
    "start_time": "2022-07-11T12:10:22.542Z"
   },
   {
    "duration": 7,
    "start_time": "2022-07-11T12:12:14.590Z"
   },
   {
    "duration": 4,
    "start_time": "2022-07-11T12:12:15.571Z"
   },
   {
    "duration": 29,
    "start_time": "2022-07-11T12:12:17.181Z"
   },
   {
    "duration": 9,
    "start_time": "2022-07-11T12:12:17.880Z"
   },
   {
    "duration": 4,
    "start_time": "2022-07-11T12:12:21.186Z"
   },
   {
    "duration": 8,
    "start_time": "2022-07-11T12:12:22.037Z"
   },
   {
    "duration": 378,
    "start_time": "2022-07-11T12:12:24.236Z"
   },
   {
    "duration": 7,
    "start_time": "2022-07-11T12:12:24.948Z"
   },
   {
    "duration": 9,
    "start_time": "2022-07-11T12:39:35.853Z"
   },
   {
    "duration": 7,
    "start_time": "2022-07-11T12:41:08.761Z"
   },
   {
    "duration": 10,
    "start_time": "2022-07-11T12:41:23.299Z"
   },
   {
    "duration": 5,
    "start_time": "2022-07-11T12:41:51.146Z"
   },
   {
    "duration": 12,
    "start_time": "2022-07-11T12:41:51.984Z"
   },
   {
    "duration": 6,
    "start_time": "2022-07-11T12:42:37.799Z"
   },
   {
    "duration": 13,
    "start_time": "2022-07-11T12:42:38.593Z"
   },
   {
    "duration": 6,
    "start_time": "2022-07-11T12:43:50.021Z"
   },
   {
    "duration": 10,
    "start_time": "2022-07-11T12:43:51.997Z"
   },
   {
    "duration": 6,
    "start_time": "2022-07-11T12:44:10.388Z"
   },
   {
    "duration": 10,
    "start_time": "2022-07-11T12:44:12.322Z"
   },
   {
    "duration": 6,
    "start_time": "2022-07-11T12:44:21.442Z"
   },
   {
    "duration": 12,
    "start_time": "2022-07-11T12:44:22.690Z"
   },
   {
    "duration": 6,
    "start_time": "2022-07-11T12:44:40.761Z"
   },
   {
    "duration": 12,
    "start_time": "2022-07-11T12:44:42.106Z"
   },
   {
    "duration": 1582,
    "start_time": "2022-07-11T12:46:13.678Z"
   },
   {
    "duration": 1399,
    "start_time": "2022-07-11T12:46:34.687Z"
   },
   {
    "duration": 1418,
    "start_time": "2022-07-11T12:47:01.844Z"
   },
   {
    "duration": 6,
    "start_time": "2022-07-11T12:47:54.430Z"
   },
   {
    "duration": 11,
    "start_time": "2022-07-11T12:47:55.097Z"
   },
   {
    "duration": 1635,
    "start_time": "2022-07-11T12:48:08.171Z"
   },
   {
    "duration": 1433,
    "start_time": "2022-07-11T12:48:59.380Z"
   },
   {
    "duration": 7,
    "start_time": "2022-07-11T12:49:48.502Z"
   },
   {
    "duration": 12,
    "start_time": "2022-07-11T12:49:49.148Z"
   },
   {
    "duration": 1506,
    "start_time": "2022-07-11T12:50:07.765Z"
   },
   {
    "duration": 7,
    "start_time": "2022-07-11T12:51:12.319Z"
   },
   {
    "duration": 4,
    "start_time": "2022-07-11T12:51:13.168Z"
   },
   {
    "duration": 27,
    "start_time": "2022-07-11T12:51:14.998Z"
   },
   {
    "duration": 8,
    "start_time": "2022-07-11T12:51:16.289Z"
   },
   {
    "duration": 4,
    "start_time": "2022-07-11T12:51:26.659Z"
   },
   {
    "duration": 8,
    "start_time": "2022-07-11T12:51:27.408Z"
   },
   {
    "duration": 369,
    "start_time": "2022-07-11T12:51:46.549Z"
   },
   {
    "duration": 7,
    "start_time": "2022-07-11T12:51:47.611Z"
   },
   {
    "duration": 1552,
    "start_time": "2022-07-11T12:53:55.048Z"
   },
   {
    "duration": 23,
    "start_time": "2022-07-11T12:53:56.603Z"
   },
   {
    "duration": 20,
    "start_time": "2022-07-11T12:53:56.627Z"
   },
   {
    "duration": 18,
    "start_time": "2022-07-11T12:53:56.649Z"
   },
   {
    "duration": 4,
    "start_time": "2022-07-11T12:53:56.670Z"
   },
   {
    "duration": 21,
    "start_time": "2022-07-11T12:53:56.676Z"
   },
   {
    "duration": 13,
    "start_time": "2022-07-11T12:53:56.699Z"
   },
   {
    "duration": 71,
    "start_time": "2022-07-11T12:53:56.714Z"
   },
   {
    "duration": 16,
    "start_time": "2022-07-11T12:53:56.788Z"
   },
   {
    "duration": 3,
    "start_time": "2022-07-11T12:53:56.806Z"
   },
   {
    "duration": 4116,
    "start_time": "2022-07-11T12:53:56.811Z"
   },
   {
    "duration": 4885,
    "start_time": "2022-07-11T12:54:00.929Z"
   },
   {
    "duration": 5,
    "start_time": "2022-07-11T12:54:05.816Z"
   },
   {
    "duration": 13,
    "start_time": "2022-07-11T12:54:05.823Z"
   },
   {
    "duration": 16,
    "start_time": "2022-07-11T12:54:05.837Z"
   },
   {
    "duration": 30,
    "start_time": "2022-07-11T12:54:05.854Z"
   },
   {
    "duration": 13,
    "start_time": "2022-07-11T12:54:05.886Z"
   },
   {
    "duration": 1619,
    "start_time": "2022-07-11T12:54:05.901Z"
   },
   {
    "duration": 7,
    "start_time": "2022-07-11T12:54:07.522Z"
   },
   {
    "duration": 40,
    "start_time": "2022-07-11T12:54:07.530Z"
   },
   {
    "duration": 97,
    "start_time": "2022-07-11T12:54:07.572Z"
   },
   {
    "duration": 195,
    "start_time": "2022-07-11T12:54:07.672Z"
   },
   {
    "duration": 25,
    "start_time": "2022-07-11T12:54:07.869Z"
   },
   {
    "duration": 25,
    "start_time": "2022-07-11T12:54:07.895Z"
   },
   {
    "duration": 259,
    "start_time": "2022-07-11T12:54:07.922Z"
   },
   {
    "duration": 7,
    "start_time": "2022-07-11T12:54:08.183Z"
   },
   {
    "duration": 140,
    "start_time": "2022-07-11T12:54:08.192Z"
   },
   {
    "duration": 0,
    "start_time": "2022-07-11T12:54:08.333Z"
   },
   {
    "duration": 0,
    "start_time": "2022-07-11T12:54:08.334Z"
   },
   {
    "duration": 0,
    "start_time": "2022-07-11T12:54:08.336Z"
   },
   {
    "duration": 0,
    "start_time": "2022-07-11T12:54:08.337Z"
   },
   {
    "duration": 0,
    "start_time": "2022-07-11T12:54:08.338Z"
   },
   {
    "duration": 0,
    "start_time": "2022-07-11T12:54:08.339Z"
   },
   {
    "duration": 0,
    "start_time": "2022-07-11T12:54:08.340Z"
   },
   {
    "duration": 0,
    "start_time": "2022-07-11T12:54:08.342Z"
   },
   {
    "duration": 0,
    "start_time": "2022-07-11T12:54:08.360Z"
   },
   {
    "duration": 0,
    "start_time": "2022-07-11T12:54:08.363Z"
   },
   {
    "duration": 364,
    "start_time": "2022-07-11T12:56:13.283Z"
   },
   {
    "duration": 8,
    "start_time": "2022-07-11T12:56:14.409Z"
   },
   {
    "duration": 7,
    "start_time": "2022-07-11T12:56:27.547Z"
   },
   {
    "duration": 104016,
    "start_time": "2022-07-11T12:56:28.413Z"
   },
   {
    "duration": 1415,
    "start_time": "2022-07-11T13:00:06.158Z"
   },
   {
    "duration": 4,
    "start_time": "2022-07-11T13:00:09.107Z"
   },
   {
    "duration": 21,
    "start_time": "2022-07-11T13:00:18.777Z"
   },
   {
    "duration": 4,
    "start_time": "2022-07-11T13:06:38.709Z"
   },
   {
    "duration": 3,
    "start_time": "2022-07-11T13:06:47.184Z"
   },
   {
    "duration": 4788,
    "start_time": "2022-07-11T13:30:34.426Z"
   },
   {
    "duration": 6169,
    "start_time": "2022-07-11T13:30:57.959Z"
   },
   {
    "duration": 117,
    "start_time": "2022-07-11T13:31:49.659Z"
   },
   {
    "duration": 138,
    "start_time": "2022-07-11T13:32:16.172Z"
   },
   {
    "duration": 482,
    "start_time": "2022-07-11T13:32:35.066Z"
   },
   {
    "duration": 150,
    "start_time": "2022-07-11T13:32:54.668Z"
   },
   {
    "duration": 485,
    "start_time": "2022-07-11T13:33:04.942Z"
   },
   {
    "duration": 1581,
    "start_time": "2022-07-11T13:33:39.526Z"
   },
   {
    "duration": 158,
    "start_time": "2022-07-11T13:34:30.183Z"
   },
   {
    "duration": 2189,
    "start_time": "2022-07-11T13:34:40.906Z"
   },
   {
    "duration": 1562,
    "start_time": "2022-07-11T13:34:57.987Z"
   },
   {
    "duration": 1798,
    "start_time": "2022-07-11T13:35:14.614Z"
   },
   {
    "duration": 1766,
    "start_time": "2022-07-11T13:36:11.683Z"
   },
   {
    "duration": 10,
    "start_time": "2022-07-11T14:33:01.789Z"
   },
   {
    "duration": 16,
    "start_time": "2022-07-11T14:33:03.276Z"
   },
   {
    "duration": 7,
    "start_time": "2022-07-11T14:33:12.854Z"
   },
   {
    "duration": 11,
    "start_time": "2022-07-11T14:33:13.643Z"
   },
   {
    "duration": 12,
    "start_time": "2022-07-11T14:51:08.955Z"
   },
   {
    "duration": 14,
    "start_time": "2022-07-11T15:46:58.836Z"
   },
   {
    "duration": 13,
    "start_time": "2022-07-11T15:47:25.994Z"
   },
   {
    "duration": 13,
    "start_time": "2022-07-11T15:48:17.645Z"
   },
   {
    "duration": 14,
    "start_time": "2022-07-11T15:48:33.159Z"
   },
   {
    "duration": 14,
    "start_time": "2022-07-11T15:52:01.691Z"
   },
   {
    "duration": 1408,
    "start_time": "2022-07-11T15:52:08.671Z"
   },
   {
    "duration": 1560,
    "start_time": "2022-07-11T15:54:05.340Z"
   },
   {
    "duration": 7,
    "start_time": "2022-07-11T15:55:29.067Z"
   },
   {
    "duration": 4,
    "start_time": "2022-07-11T15:55:31.851Z"
   },
   {
    "duration": 26,
    "start_time": "2022-07-11T15:55:37.107Z"
   },
   {
    "duration": 18,
    "start_time": "2022-07-11T15:55:38.858Z"
   },
   {
    "duration": 3,
    "start_time": "2022-07-11T15:55:49.254Z"
   },
   {
    "duration": 8,
    "start_time": "2022-07-11T15:55:50.481Z"
   },
   {
    "duration": 343,
    "start_time": "2022-07-11T15:56:45.331Z"
   },
   {
    "duration": 7,
    "start_time": "2022-07-11T15:56:46.525Z"
   },
   {
    "duration": 9,
    "start_time": "2022-07-11T15:57:12.864Z"
   },
   {
    "duration": 7,
    "start_time": "2022-07-11T15:57:16.855Z"
   },
   {
    "duration": 114904,
    "start_time": "2022-07-11T15:57:17.824Z"
   },
   {
    "duration": 1497,
    "start_time": "2022-07-11T16:22:30.860Z"
   },
   {
    "duration": 21,
    "start_time": "2022-07-11T16:22:32.359Z"
   },
   {
    "duration": 18,
    "start_time": "2022-07-11T16:22:32.382Z"
   },
   {
    "duration": 12,
    "start_time": "2022-07-11T16:22:32.402Z"
   },
   {
    "duration": 12,
    "start_time": "2022-07-11T16:22:32.415Z"
   },
   {
    "duration": 18,
    "start_time": "2022-07-11T16:22:32.429Z"
   },
   {
    "duration": 27,
    "start_time": "2022-07-11T16:22:32.448Z"
   },
   {
    "duration": 43,
    "start_time": "2022-07-11T16:22:32.477Z"
   },
   {
    "duration": 15,
    "start_time": "2022-07-11T16:22:32.521Z"
   },
   {
    "duration": 2,
    "start_time": "2022-07-11T16:22:32.539Z"
   },
   {
    "duration": 4037,
    "start_time": "2022-07-11T16:22:32.560Z"
   },
   {
    "duration": 4504,
    "start_time": "2022-07-11T16:22:36.599Z"
   },
   {
    "duration": 1411,
    "start_time": "2022-07-11T16:22:41.105Z"
   },
   {
    "duration": 7,
    "start_time": "2022-07-11T16:22:42.518Z"
   },
   {
    "duration": 28,
    "start_time": "2022-07-11T16:22:42.527Z"
   },
   {
    "duration": 47,
    "start_time": "2022-07-11T16:22:42.556Z"
   },
   {
    "duration": 63,
    "start_time": "2022-07-11T16:22:42.605Z"
   },
   {
    "duration": 109,
    "start_time": "2022-07-11T16:22:42.670Z"
   },
   {
    "duration": 18,
    "start_time": "2022-07-11T16:22:42.780Z"
   },
   {
    "duration": 365,
    "start_time": "2022-07-11T16:22:42.800Z"
   },
   {
    "duration": 8,
    "start_time": "2022-07-11T16:22:43.167Z"
   },
   {
    "duration": 26,
    "start_time": "2022-07-11T16:22:43.177Z"
   },
   {
    "duration": 113608,
    "start_time": "2022-07-11T16:22:43.204Z"
   },
   {
    "duration": 1659,
    "start_time": "2022-07-11T16:24:36.814Z"
   },
   {
    "duration": 86,
    "start_time": "2022-07-11T16:24:38.475Z"
   },
   {
    "duration": 20,
    "start_time": "2022-07-11T16:24:38.563Z"
   },
   {
    "duration": 4933,
    "start_time": "2022-07-11T16:24:38.584Z"
   },
   {
    "duration": 1597,
    "start_time": "2022-07-11T16:24:43.520Z"
   },
   {
    "duration": 85,
    "start_time": "2022-07-13T12:32:48.364Z"
   },
   {
    "duration": 52,
    "start_time": "2022-07-13T12:34:43.658Z"
   },
   {
    "duration": 47,
    "start_time": "2022-07-13T12:36:42.907Z"
   },
   {
    "duration": 17448,
    "start_time": "2022-07-13T12:40:28.563Z"
   },
   {
    "duration": 4079,
    "start_time": "2022-07-13T12:43:04.209Z"
   },
   {
    "duration": 213,
    "start_time": "2022-07-13T12:43:19.694Z"
   },
   {
    "duration": 60,
    "start_time": "2022-07-13T12:43:23.773Z"
   },
   {
    "duration": 9,
    "start_time": "2022-07-13T12:43:29.074Z"
   },
   {
    "duration": 19130,
    "start_time": "2022-07-13T12:43:41.604Z"
   },
   {
    "duration": 56,
    "start_time": "2022-07-13T12:55:04.311Z"
   },
   {
    "duration": 34,
    "start_time": "2022-07-13T13:00:42.213Z"
   },
   {
    "duration": 1620,
    "start_time": "2022-07-13T13:00:53.407Z"
   },
   {
    "duration": 25,
    "start_time": "2022-07-13T13:00:55.029Z"
   },
   {
    "duration": 22,
    "start_time": "2022-07-13T13:00:55.056Z"
   },
   {
    "duration": 21,
    "start_time": "2022-07-13T13:00:55.081Z"
   },
   {
    "duration": 20,
    "start_time": "2022-07-13T13:00:55.104Z"
   },
   {
    "duration": 39,
    "start_time": "2022-07-13T13:00:55.127Z"
   },
   {
    "duration": 13,
    "start_time": "2022-07-13T13:00:55.168Z"
   },
   {
    "duration": 1824,
    "start_time": "2022-07-13T13:00:55.183Z"
   },
   {
    "duration": 18940,
    "start_time": "2022-07-13T13:00:57.009Z"
   },
   {
    "duration": 102,
    "start_time": "2022-07-13T13:01:15.953Z"
   },
   {
    "duration": 25,
    "start_time": "2022-07-13T13:01:16.057Z"
   },
   {
    "duration": 61,
    "start_time": "2022-07-13T13:01:16.085Z"
   },
   {
    "duration": 4223,
    "start_time": "2022-07-13T13:01:16.149Z"
   },
   {
    "duration": 5572,
    "start_time": "2022-07-13T13:01:20.375Z"
   },
   {
    "duration": 1532,
    "start_time": "2022-07-13T13:01:25.949Z"
   },
   {
    "duration": 22,
    "start_time": "2022-07-13T13:01:27.483Z"
   },
   {
    "duration": 19,
    "start_time": "2022-07-13T13:01:27.508Z"
   },
   {
    "duration": 59,
    "start_time": "2022-07-13T13:01:27.529Z"
   },
   {
    "duration": 62,
    "start_time": "2022-07-13T13:01:27.590Z"
   },
   {
    "duration": 104,
    "start_time": "2022-07-13T13:01:27.655Z"
   },
   {
    "duration": 14,
    "start_time": "2022-07-13T13:01:27.762Z"
   },
   {
    "duration": 437,
    "start_time": "2022-07-13T13:01:27.778Z"
   },
   {
    "duration": 10,
    "start_time": "2022-07-13T13:01:28.217Z"
   },
   {
    "duration": 21,
    "start_time": "2022-07-13T13:01:28.229Z"
   },
   {
    "duration": 121837,
    "start_time": "2022-07-13T13:01:28.253Z"
   },
   {
    "duration": 1559,
    "start_time": "2022-07-13T13:03:30.092Z"
   },
   {
    "duration": 93,
    "start_time": "2022-07-13T13:03:31.654Z"
   },
   {
    "duration": 27,
    "start_time": "2022-07-13T13:03:31.750Z"
   },
   {
    "duration": 4992,
    "start_time": "2022-07-13T13:03:31.778Z"
   },
   {
    "duration": 2213,
    "start_time": "2022-07-13T13:03:36.772Z"
   },
   {
    "duration": 1545,
    "start_time": "2022-07-13T13:16:20.353Z"
   },
   {
    "duration": 24,
    "start_time": "2022-07-13T13:16:21.900Z"
   },
   {
    "duration": 23,
    "start_time": "2022-07-13T13:16:21.925Z"
   },
   {
    "duration": 13,
    "start_time": "2022-07-13T13:16:21.950Z"
   },
   {
    "duration": 19,
    "start_time": "2022-07-13T13:16:21.965Z"
   },
   {
    "duration": 15,
    "start_time": "2022-07-13T13:16:21.986Z"
   },
   {
    "duration": 9,
    "start_time": "2022-07-13T13:16:22.004Z"
   },
   {
    "duration": 631,
    "start_time": "2022-07-13T13:16:22.015Z"
   },
   {
    "duration": 17898,
    "start_time": "2022-07-13T13:16:22.648Z"
   },
   {
    "duration": 102,
    "start_time": "2022-07-13T13:16:40.550Z"
   },
   {
    "duration": 25,
    "start_time": "2022-07-13T13:16:40.654Z"
   },
   {
    "duration": 3,
    "start_time": "2022-07-13T13:16:40.681Z"
   },
   {
    "duration": 4147,
    "start_time": "2022-07-13T13:16:40.686Z"
   },
   {
    "duration": 5551,
    "start_time": "2022-07-13T13:16:44.835Z"
   },
   {
    "duration": 1487,
    "start_time": "2022-07-13T13:16:50.388Z"
   },
   {
    "duration": 10,
    "start_time": "2022-07-13T13:16:51.877Z"
   },
   {
    "duration": 9,
    "start_time": "2022-07-13T13:16:51.889Z"
   },
   {
    "duration": 148,
    "start_time": "2022-07-13T13:16:51.900Z"
   },
   {
    "duration": 103,
    "start_time": "2022-07-13T13:16:52.065Z"
   },
   {
    "duration": 9,
    "start_time": "2022-07-13T13:16:52.173Z"
   },
   {
    "duration": 75,
    "start_time": "2022-07-13T13:16:52.185Z"
   },
   {
    "duration": 421,
    "start_time": "2022-07-13T13:16:52.262Z"
   },
   {
    "duration": 10,
    "start_time": "2022-07-13T13:16:52.685Z"
   },
   {
    "duration": 17,
    "start_time": "2022-07-13T13:16:52.697Z"
   },
   {
    "duration": 122277,
    "start_time": "2022-07-13T13:16:52.716Z"
   },
   {
    "duration": 1651,
    "start_time": "2022-07-13T13:18:54.995Z"
   },
   {
    "duration": 9,
    "start_time": "2022-07-13T13:18:56.648Z"
   },
   {
    "duration": 107,
    "start_time": "2022-07-13T13:18:56.661Z"
   },
   {
    "duration": 5002,
    "start_time": "2022-07-13T13:18:56.770Z"
   },
   {
    "duration": 2128,
    "start_time": "2022-07-13T13:19:01.774Z"
   }
  ],
  "kernelspec": {
   "display_name": "Python 3",
   "language": "python",
   "name": "python3"
  },
  "language_info": {
   "codemirror_mode": {
    "name": "ipython",
    "version": 3
   },
   "file_extension": ".py",
   "mimetype": "text/x-python",
   "name": "python",
   "nbconvert_exporter": "python",
   "pygments_lexer": "ipython3",
   "version": "3.8.8"
  },
  "toc": {
   "base_numbering": 1,
   "nav_menu": {},
   "number_sections": true,
   "sideBar": true,
   "skip_h1_title": true,
   "title_cell": "Table of Contents",
   "title_sidebar": "Contents",
   "toc_cell": false,
   "toc_position": {},
   "toc_section_display": true,
   "toc_window_display": true
  }
 },
 "nbformat": 4,
 "nbformat_minor": 2
}
